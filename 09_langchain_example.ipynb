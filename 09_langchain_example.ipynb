{
 "cells": [
  {
   "cell_type": "code",
   "execution_count": null,
   "id": "64076904",
   "metadata": {},
   "outputs": [],
   "source": [
    "from langchain_openai import ChatOpenAI\n",
    "from langchain.prompts import ChatPromptTemplate\n",
    "import random\n",
    "\n",
    "# 使用 OpenAI GPT-4o 作為主要 LLM\n",
    "llm = ChatOpenAI(model=\"gpt-4o\", temperature=0)\n",
    "\n",
    "# --- 分類客服 ---\n",
    "classify_prompt = ChatPromptTemplate.from_messages([\n",
    "    (\"system\",\n",
    "     \"你是銀行客服人員，負責將使用者問題轉交正確部門。\\n\\n\"\n",
    "     \"【客服文件】\\n\"\n",
    "     \"1. 帳務部門：處理存款、提款、餘額查詢、轉帳。\\n\"\n",
    "     \"2. 信用卡部門：處理掛失、刷卡爭議、額度調整。\\n\"\n",
    "     \"3. 若問題不屬於以上範圍，請回覆 'human'。\\n\\n\"\n",
    "     \"請只輸出以下其中一個詞：'accounting'、'creditcard' 或 'human'。\"),\n",
    "    (\"human\", \"{question}\")\n",
    "])\n",
    "def classify(question: str) -> str:\n",
    "    response = llm.invoke(classify_prompt.format_messages(question=question))\n",
    "    raw = response.content.strip().lower()\n",
    "    if \"accounting\" in raw:\n",
    "        return \"accounting\"\n",
    "    elif \"creditcard\" in raw:\n",
    "        return \"creditcard\"\n",
    "    else:\n",
    "        return \"human\"\n",
    "\n",
    "# --- 部門回答 ---\n",
    "def accounting_answer() -> str:\n",
    "    return \"您好，我是帳務部門人員，正在處理您的帳務問題。\"\n",
    "\n",
    "def creditcard_answer() -> str:\n",
    "    return \"您好，我是信用卡部門人員，正在處理您的信用卡問題。\"\n",
    "\n",
    "# --- 信心度檢查 (隨機產生) ---\n",
    "def confidence_check(answer: str) -> float:\n",
    "    score = round(random.uniform(0, 1), 2)\n",
    "    print(f\"[信心度檢查] 答案: {answer} → 信心度={score:.2f}\")\n",
    "    return score\n",
    "\n",
    "# --- 人工客服 ---\n",
    "def human_fallback(question: str, retries: int) -> str:\n",
    "    if retries == 0:\n",
    "        return \"AI客服無法為您解決問題，已轉人工客服處理。\"\n",
    "    else:\n",
    "        return f\"AI客服多次嘗試回答後仍信心不足，已轉人工客服處理。\"\n",
    "\n",
    "# --- LangChain 流程 ---\n",
    "def customer_service(question: str, max_retries: int = 3) -> str:\n",
    "    retries = 0\n",
    "    while retries <= max_retries:\n",
    "        route = classify(question)\n",
    "        print(f\"[分類] 問題: {question} → 部門: {route} (重試次數={retries})\")\n",
    "\n",
    "        if route == \"human\":\n",
    "            return human_fallback(question, retries)\n",
    "\n",
    "        # 取得部門回答\n",
    "        if route == \"accounting\":\n",
    "            answer = accounting_answer()\n",
    "        elif route == \"creditcard\":\n",
    "            answer = creditcard_answer()\n",
    "        else:\n",
    "            answer = human_fallback(question, retries)\n",
    "            return answer\n",
    "\n",
    "        # 檢查信心度\n",
    "        confidence = confidence_check(answer)\n",
    "        if confidence >= 0.5:\n",
    "            return answer\n",
    "        else:\n",
    "            retries += 1\n",
    "            if retries > max_retries:\n",
    "                return human_fallback(question, retries)"
   ]
  },
  {
   "cell_type": "code",
   "execution_count": 5,
   "id": "3f6547dd",
   "metadata": {},
   "outputs": [
    {
     "name": "stdout",
     "output_type": "stream",
     "text": [
      "[分類] 問題: 請問為什麼我的轉帳失敗了？ → 部門: accounting (重試次數=0)\n",
      "[信心度檢查] 答案: 您好，我是帳務部門人員，正在處理您的帳務問題。 → 信心度=0.63\n",
      "[分類] 問題: 請問為什麼我的轉帳失敗了？ → 部門: accounting (重試次數=1)\n",
      "[信心度檢查] 答案: 您好，我是帳務部門人員，正在處理您的帳務問題。 → 信心度=0.68\n",
      "[分類] 問題: 請問為什麼我的轉帳失敗了？ → 部門: accounting (重試次數=2)\n",
      "[信心度檢查] 答案: 您好，我是帳務部門人員，正在處理您的帳務問題。 → 信心度=0.28\n",
      "[分類] 問題: 請問為什麼我的轉帳失敗了？ → 部門: accounting (重試次數=3)\n",
      "[信心度檢查] 答案: 您好，我是帳務部門人員，正在處理您的帳務問題。 → 信心度=0.28\n",
      "AI客服多次嘗試回答後仍信心不足，已轉人工客服處理。\n"
     ]
    }
   ],
   "source": [
    "# --- 測試1 ---\n",
    "print(customer_service(\"請問為什麼我的轉帳失敗了？\"))"
   ]
  },
  {
   "cell_type": "code",
   "execution_count": 6,
   "id": "b521564d",
   "metadata": {},
   "outputs": [
    {
     "name": "stdout",
     "output_type": "stream",
     "text": [
      "[分類] 問題: 我的信用卡昨天被盜刷了怎麼辦？ → 部門: creditcard (重試次數=0)\n",
      "[信心度檢查] 答案: 您好，我是信用卡部門人員，正在處理您的信用卡問題。 → 信心度=0.33\n",
      "[分類] 問題: 我的信用卡昨天被盜刷了怎麼辦？ → 部門: creditcard (重試次數=1)\n",
      "[信心度檢查] 答案: 您好，我是信用卡部門人員，正在處理您的信用卡問題。 → 信心度=0.18\n",
      "[分類] 問題: 我的信用卡昨天被盜刷了怎麼辦？ → 部門: creditcard (重試次數=2)\n",
      "[信心度檢查] 答案: 您好，我是信用卡部門人員，正在處理您的信用卡問題。 → 信心度=0.05\n",
      "[分類] 問題: 我的信用卡昨天被盜刷了怎麼辦？ → 部門: creditcard (重試次數=3)\n",
      "[信心度檢查] 答案: 您好，我是信用卡部門人員，正在處理您的信用卡問題。 → 信心度=0.95\n",
      "您好，我是信用卡部門人員，正在處理您的信用卡問題。\n"
     ]
    }
   ],
   "source": [
    "# --- 測試2 ---\n",
    "print(customer_service(\"我的信用卡昨天被盜刷了怎麼辦？\"))"
   ]
  },
  {
   "cell_type": "code",
   "execution_count": 7,
   "id": "ab4303fd",
   "metadata": {},
   "outputs": [
    {
     "name": "stdout",
     "output_type": "stream",
     "text": [
      "[分類] 問題: 我想問關於房貸利率 → 部門: human (重試次數=0)\n",
      "AI客服無法為您解決問題，已轉人工客服處理。\n"
     ]
    }
   ],
   "source": [
    "# --- 測試3 ---\n",
    "print(customer_service(\"我想問關於房貸利率\"))"
   ]
  },
  {
   "cell_type": "code",
   "execution_count": null,
   "id": "7b6afc1d",
   "metadata": {},
   "outputs": [],
   "source": []
  }
 ],
 "metadata": {
  "kernelspec": {
   "display_name": "llm-tutorial",
   "language": "python",
   "name": "python3"
  },
  "language_info": {
   "codemirror_mode": {
    "name": "ipython",
    "version": 3
   },
   "file_extension": ".py",
   "mimetype": "text/x-python",
   "name": "python",
   "nbconvert_exporter": "python",
   "pygments_lexer": "ipython3",
   "version": "3.13.7"
  }
 },
 "nbformat": 4,
 "nbformat_minor": 5
}
