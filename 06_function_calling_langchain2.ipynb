{
 "cells": [
  {
   "cell_type": "code",
   "execution_count": 25,
   "id": "978ff4a4",
   "metadata": {},
   "outputs": [],
   "source": [
    "from datetime import datetime\n",
    "from dateutil.parser import parse\n",
    "from langchain_core.tools import Tool\n",
    "from langchain.agents import initialize_agent, AgentType\n",
    "from langchain_openai import ChatOpenAI\n",
    "from langchain.tools import tool"
   ]
  },
  {
   "cell_type": "code",
   "execution_count": 26,
   "id": "2fb1d255",
   "metadata": {},
   "outputs": [
    {
     "data": {
      "text/plain": [
       "True"
      ]
     },
     "execution_count": 26,
     "metadata": {},
     "output_type": "execute_result"
    }
   ],
   "source": [
    "# 讀取環境變數(OpenAI API Key)\n",
    "from dotenv import load_dotenv\n",
    "load_dotenv()"
   ]
  },
  {
   "cell_type": "code",
   "execution_count": 27,
   "id": "73c20398",
   "metadata": {},
   "outputs": [],
   "source": [
    "# Tool 1\n",
    "@tool\n",
    "def get_current_time() -> str:\n",
    "    \"\"\"取得目前時間，無需輸入參數\"\"\"\n",
    "    now = datetime.now()\n",
    "    return now.strftime(\"%Y-%m-%d %H:%M:%S\")"
   ]
  },
  {
   "cell_type": "code",
   "execution_count": 28,
   "id": "8987f6fb",
   "metadata": {},
   "outputs": [],
   "source": [
    "# Tool 2\n",
    "@tool\n",
    "def calculate_time_difference(start_time: str, end_time: str) -> str:\n",
    "    \"\"\"\n",
    "    計算兩個時間之間已過或剩餘多久。\n",
    "    start_time: 開始時間，格式為 'YYYY-MM-DD HH:MM:SS'\n",
    "    end_time: 結束時間，格式為 'YYYY-MM-DD HH:MM:SS'\n",
    "    \"\"\"\n",
    "    try:\n",
    "        start = parse(start_time)\n",
    "        end = parse(end_time)\n",
    "        if start >= end:\n",
    "            delta = start - end\n",
    "            prefix = \"已過\"\n",
    "        else:\n",
    "            delta = end - start\n",
    "            prefix = \"還有\"\n",
    "        days = delta.days\n",
    "        hours = delta.seconds // 3600\n",
    "        minutes = (delta.seconds % 3600) // 60\n",
    "        return f\"{prefix} {days} 天 {hours} 小時 {minutes} 分鐘\"\n",
    "    except Exception as e:\n",
    "        return f\"錯誤: {e}\""
   ]
  },
  {
   "cell_type": "code",
   "execution_count": 29,
   "metadata": {},
   "outputs": [],
   "source": [
    "# 組成工具列表\n",
    "tools = [get_current_time, calculate_time_difference]"
   ]
  },
  {
   "cell_type": "code",
   "execution_count": 30,
   "id": "bc5dfaf3",
   "metadata": {},
   "outputs": [],
   "source": [
    "# 使用 gpt-3.5-turbo\n",
    "llm = ChatOpenAI(\n",
    "    model=\"gpt-3.5-turbo\",\n",
    "    temperature=0\n",
    ")"
   ]
  },
  {
   "cell_type": "code",
   "execution_count": 31,
   "id": "8271bad7",
   "metadata": {},
   "outputs": [],
   "source": [
    "# 使用 Function Calling 模式\n",
    "agent = initialize_agent(\n",
    "    tools=tools,\n",
    "    llm=llm,\n",
    "    agent=AgentType.OPENAI_FUNCTIONS,\n",
    "    verbose=True\n",
    ")"
   ]
  },
  {
   "cell_type": "code",
   "execution_count": null,
   "id": "bc5530a4",
   "metadata": {},
   "outputs": [
    {
     "name": "stdout",
     "output_type": "stream",
     "text": [
      "\n",
      "\n",
      "\u001b[1m> Entering new AgentExecutor chain...\u001b[0m\n",
      "\u001b[32;1m\u001b[1;3m\n",
      "Invoking: `calculate_time_difference` with `{'start_time': '2025-08-01 08:00:00', 'end_time': '2025-08-02 10:00'}`\n",
      "\n",
      "\n",
      "\u001b[0m\u001b[33;1m\u001b[1;3m還有 1 天 2 小時 0 分鐘\u001b[0m\u001b[32;1m\u001b[1;3m距離 2025-08-02 10:00 還有 1 天 2 小時 0 分鐘。\u001b[0m\n",
      "\n",
      "\u001b[1m> Finished chain.\u001b[0m\n",
      "距離 2025-08-02 10:00 還有 1 天 2 小時 0 分鐘。\n"
     ]
    }
   ],
   "source": [
    "# 測試輸入\n",
    "query = \"現在幾點?距離 2025-08-01 08:00:00 還有多久?\"\n",
    "# query = \"2025-08-02 10:00 距離 2025-08-01 08:00:00 還有多久?\"\n",
    "\n",
    "# 執行呼叫\n",
    "response = agent.invoke({\"input\": query})\n",
    "\n",
    "print(response[\"output\"])"
   ]
  },
  {
   "cell_type": "code",
   "execution_count": null,
   "id": "9762e812",
   "metadata": {},
   "outputs": [],
   "source": []
  }
 ],
 "metadata": {
  "kernelspec": {
   "display_name": ".venv",
   "language": "python",
   "name": "python3"
  },
  "language_info": {
   "codemirror_mode": {
    "name": "ipython",
    "version": 3
   },
   "file_extension": ".py",
   "mimetype": "text/x-python",
   "name": "python",
   "nbconvert_exporter": "python",
   "pygments_lexer": "ipython3",
   "version": "3.11.9"
  }
 },
 "nbformat": 4,
 "nbformat_minor": 5
}
