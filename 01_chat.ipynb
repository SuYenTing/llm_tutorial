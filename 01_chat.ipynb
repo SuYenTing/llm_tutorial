{
 "cells": [
  {
   "cell_type": "markdown",
   "id": "61133469",
   "metadata": {},
   "source": [
    "## LangChain-對話(Chat)範例\n",
    "2025/06/29 蘇彥庭"
   ]
  },
  {
   "cell_type": "markdown",
   "id": "1042172b",
   "metadata": {},
   "source": [
    "1. 單輪對話(Single-turn Chat)"
   ]
  },
  {
   "cell_type": "code",
   "execution_count": 2,
   "id": "6c7677ed",
   "metadata": {},
   "outputs": [
    {
     "name": "stdout",
     "output_type": "stream",
     "text": [
      "我是一個大型語言模型，由 Google 訓練。我可以根據你的要求提供各種內容，例如：\n",
      "\n",
      "*   **回答問題：** 試著回答你提出的問題，無論是關於知識、創意、或想像力方面。\n",
      "*   **生成文本：** 寫不同類型的文本，比如詩歌、程式碼、 स्क्रिप्ट、音樂作品、郵件、信件等。\n",
      "*   **翻譯語言：** 將文本從一種語言翻譯成另一種語言。\n",
      "*   **總結文本：** 提取文本中的關鍵信息。\n",
      "*   **重複文本：** 讓我知道要重複一次文本。\n",
      "\n",
      "簡單來說，我是一個用語言來幫助你的人工智能。\n",
      "\n",
      "你有什么想和我聊的吗？\n"
     ]
    }
   ],
   "source": [
    "from langchain.chat_models import init_chat_model\n",
    "from langchain_core.messages import HumanMessage, SystemMessage\n",
    "\n",
    "model = init_chat_model(\"gemma3:1b\", model_provider=\"ollama\")\n",
    "\n",
    "messages = [\n",
    "    HumanMessage(\"你是誰?\"),\n",
    "]\n",
    "\n",
    "res = model.invoke(messages)\n",
    "\n",
    "print(res.content)"
   ]
  },
  {
   "cell_type": "markdown",
   "id": "2ca32b89",
   "metadata": {},
   "source": [
    "2. 系統訊息控制(System Message Control)\n",
    "* SystemMessage\n",
    "    * 用途：提供系統角色設定或對模型行為的指示。\n",
    "    * 常見用法：用來告訴模型應該扮演什麼樣的角色或遵循哪些規則。\n",
    "* HumanMessage\n",
    "    * 用途：模擬使用者的輸入。\n",
    "    * 常見用法：用來傳遞使用者的問題或請求。\n",
    "* AIMessage\n",
    "    * 用途：模擬 AI 的回應。\n",
    "    * 常見用法：用來記錄對話中 AI 所回覆的內容，讓後續對話有上下文。"
   ]
  },
  {
   "cell_type": "code",
   "execution_count": 3,
   "id": "b3bd17f5",
   "metadata": {},
   "outputs": [
    {
     "name": "stdout",
     "output_type": "stream",
     "text": [
      "You are asking “Who are you?” in Chinese. \n",
      "\n",
      "The correct translation is: **Who are you?** or **You are who?**\n",
      "\n",
      "It’s a straightforward question. 😊\n"
     ]
    }
   ],
   "source": [
    "from langchain.chat_models import init_chat_model\n",
    "from langchain_core.messages import HumanMessage, SystemMessage\n",
    "\n",
    "model = init_chat_model(\"gemma3:1b\", model_provider=\"ollama\")\n",
    "\n",
    "messages = [\n",
    "    SystemMessage(\"Translate the following from Chinese into English\"),\n",
    "    HumanMessage(\"你是誰?\"),\n",
    "]\n",
    "\n",
    "res = model.invoke(messages)\n",
    "\n",
    "print(res.content)"
   ]
  },
  {
   "cell_type": "markdown",
   "id": "13bc2188",
   "metadata": {},
   "source": [
    "3 具記憶的多輪對話(Multi-turn Chat with Memory)"
   ]
  },
  {
   "cell_type": "markdown",
   "id": "dcacd69f",
   "metadata": {},
   "source": [
    "3.1 多輪對話無記憶性範例"
   ]
  },
  {
   "cell_type": "code",
   "execution_count": 5,
   "id": "26f33505",
   "metadata": {},
   "outputs": [
    {
     "name": "stdout",
     "output_type": "stream",
     "text": [
      "\n",
      "---------- 第1次回答 ----------\n",
      "\n",
      "好的，我記住了：\n",
      "\n",
      "A=狗\n",
      "B=貓\n",
      "C=鳥\n",
      "\n",
      "現在我準備好接收你的指令了。 😊\n",
      "\n",
      "\n",
      "---------- 第2次回答 ----------\n",
      "\n",
      "在上下文中，A, B, C 通常代表 **蘋果、番茄和車子**。 \n",
      "\n",
      "這是一個常見的圖像謎語，需要根據上下文來推斷答案。\n",
      "\n",
      "你提供的文字中沒有明確指出是哪個圖片，所以需要更多資訊才能判斷答案。\n",
      "\n",
      "如果你能提供更多上下文，我可以更準確地回答你的問題。\n",
      "\n"
     ]
    }
   ],
   "source": [
    "from langchain.chat_models import init_chat_model\n",
    "from langchain_core.messages import HumanMessage, SystemMessage, AIMessage\n",
    "\n",
    "model = init_chat_model(\"gemma3:1b\", model_provider=\"ollama\")\n",
    "\n",
    "messages = [\n",
    "    HumanMessage(content=\"請記住代號: A=狗 B=貓 C=鳥\"),\n",
    "]\n",
    "\n",
    "res = model.invoke(messages)\n",
    "\n",
    "print(\"\\n---------- 第1次回答 ----------\\n\")\n",
    "print(res.content)\n",
    "\n",
    "\n",
    "messages = [\n",
    "    HumanMessage(content=\"請問A, B, C分別代表什麼?\")\n",
    "]\n",
    "\n",
    "res = model.invoke(messages)\n",
    "\n",
    "print(\"\\n---------- 第2次回答 ----------\\n\")\n",
    "print(res.content)"
   ]
  },
  {
   "cell_type": "markdown",
   "id": "a3ab98d2",
   "metadata": {},
   "source": [
    "3.2 對話具記憶性範例"
   ]
  },
  {
   "cell_type": "code",
   "execution_count": 6,
   "id": "99689e37",
   "metadata": {},
   "outputs": [
    {
     "name": "stdout",
     "output_type": "stream",
     "text": [
      "好的，根據你提供的代號，A代表**狗**，B代表**貓**，C代表**鳥**。\n",
      "\n",
      "很高興能幫到你！ 😊\n",
      "\n"
     ]
    }
   ],
   "source": [
    "from langchain.chat_models import init_chat_model\n",
    "from langchain_core.messages import HumanMessage, SystemMessage, AIMessage\n",
    "\n",
    "model = init_chat_model(\"gemma3:1b\", model_provider=\"ollama\")\n",
    "\n",
    "messages = [\n",
    "    HumanMessage(content=\"請記住代號: A=狗 B=貓 C=鳥\"),\n",
    "    AIMessage(content=\"好，我記住了 A=狗 B=貓 C=鳥\"),  # 模擬 AI 回應 幫助模型記住前一輪內容\n",
    "    HumanMessage(content=\"請問A, B, C分別代表什麼?\"),  # 新一輪輸入\n",
    "]\n",
    "\n",
    "res = model.invoke(messages)\n",
    "\n",
    "print(res.content)"
   ]
  },
  {
   "cell_type": "markdown",
   "id": "f176c600",
   "metadata": {},
   "source": [
    "3.3 用 ConversationBufferMemory 建立帶記憶的 Chat 流程"
   ]
  },
  {
   "cell_type": "code",
   "execution_count": 7,
   "id": "75de1dbd",
   "metadata": {},
   "outputs": [
    {
     "name": "stderr",
     "output_type": "stream",
     "text": [
      "C:\\Users\\User\\AppData\\Local\\Temp\\ipykernel_1184\\1558259831.py:9: LangChainDeprecationWarning: Please see the migration guide at: https://python.langchain.com/docs/versions/migrating_memory/\n",
      "  memory = ConversationBufferMemory(\n"
     ]
    },
    {
     "name": "stdout",
     "output_type": "stream",
     "text": [
      "\n",
      "---------- 第1次 ----------\n",
      "\n",
      "好的，我記住了。\n",
      "\n",
      "A=狗\n",
      "B=貓\n",
      "C=鳥\n",
      "\n",
      "我現在能夠理解並使用代號 A、B、C 的意思。\n",
      "\n",
      "\n",
      "---------- 第2次 ----------\n",
      "\n",
      "A 代表 **狗**， B 代表 **貓**， C 代表 **鳥**。\n",
      "\n",
      "重複確認，我理解了！ 😊\n",
      "\n"
     ]
    }
   ],
   "source": [
    "from langchain.chat_models import init_chat_model\n",
    "from langchain_core.messages import HumanMessage\n",
    "from langchain.memory import ConversationBufferMemory\n",
    "\n",
    "# 建立 Ollama 模型\n",
    "llm = init_chat_model(\"gemma3:1b\", model_provider=\"ollama\")\n",
    "\n",
    "# 建立記憶體\n",
    "memory = ConversationBufferMemory(\n",
    "    return_messages=True,\n",
    "    memory_key=\"history\",\n",
    ")\n",
    "\n",
    "# 手動模擬對話輪次\n",
    "def ask(input_text):\n",
    "    # 載入記憶訊息\n",
    "    history = memory.chat_memory.messages\n",
    "    # 加上當前人類輸入\n",
    "    messages = history + [HumanMessage(content=input_text)]\n",
    "    # 呼叫模型\n",
    "    response = llm.invoke(messages)\n",
    "    # 將新對話加入記憶\n",
    "    memory.chat_memory.add_user_message(input_text)\n",
    "    memory.chat_memory.add_ai_message(response.content)\n",
    "    return response.content\n",
    "\n",
    "# 測試\n",
    "print(\"\\n---------- 第1次 ----------\\n\")\n",
    "print(ask(\"請記住代號: A=狗 B=貓 C=鳥\"))\n",
    "\n",
    "print(\"\\n---------- 第2次 ----------\\n\")\n",
    "print(ask(\"請問A, B, C分別代表什麼?\"))\n"
   ]
  },
  {
   "cell_type": "markdown",
   "id": "53813750",
   "metadata": {},
   "source": [
    "3.4 利用 Streamlit 快速搭一個對話服務\n",
    "\n",
    "程式已寫好在`chat_app.py`，請執行`streamlit run chat_app.py`指令。"
   ]
  }
 ],
 "metadata": {
  "kernelspec": {
   "display_name": ".venv",
   "language": "python",
   "name": "python3"
  },
  "language_info": {
   "codemirror_mode": {
    "name": "ipython",
    "version": 3
   },
   "file_extension": ".py",
   "mimetype": "text/x-python",
   "name": "python",
   "nbconvert_exporter": "python",
   "pygments_lexer": "ipython3",
   "version": "3.11.9"
  }
 },
 "nbformat": 4,
 "nbformat_minor": 5
}
