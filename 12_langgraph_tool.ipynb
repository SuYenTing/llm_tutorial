{
 "cells": [
  {
   "cell_type": "code",
   "execution_count": 18,
   "id": "39e96a2d",
   "metadata": {},
   "outputs": [],
   "source": [
    "from typing import Annotated\n",
    "from typing_extensions import TypedDict\n",
    "from datetime import datetime\n",
    "from dateutil.parser import parse\n",
    "import json\n",
    "\n",
    "from dotenv import load_dotenv\n",
    "from langchain.chat_models import init_chat_model\n",
    "from langchain.tools import StructuredTool\n",
    "from langchain_core.messages import ToolMessage\n",
    "from langgraph.graph import StateGraph, START, END\n",
    "from langgraph.graph.message import add_messages"
   ]
  },
  {
   "cell_type": "code",
   "execution_count": 19,
   "id": "0753d2ab",
   "metadata": {},
   "outputs": [
    {
     "data": {
      "text/plain": [
       "True"
      ]
     },
     "execution_count": 19,
     "metadata": {},
     "output_type": "execute_result"
    }
   ],
   "source": [
    "# 讀取環境變數(設定OPENAI_API_KEY)\n",
    "load_dotenv()"
   ]
  },
  {
   "cell_type": "code",
   "execution_count": 20,
   "id": "933852aa",
   "metadata": {},
   "outputs": [],
   "source": [
    "# 工具 1: 取得目前時間\n",
    "def get_current_time() -> str:\n",
    "    \"\"\"取得目前時間（無需輸入參數）\"\"\"\n",
    "    return datetime.now().strftime(\"%Y-%m-%d %H:%M:%S\")\n",
    "\n",
    "# 工具 2: 計算時間差\n",
    "def calculate_time_difference(start_time: str, end_time: str) -> str:\n",
    "    \"\"\"\n",
    "    計算兩個時間之間已過或剩餘多久。\n",
    "    start_time: 開始時間，格式為 'YYYY-MM-DD HH:MM:SS'\n",
    "    end_time: 結束時間，格式為 'YYYY-MM-DD HH:MM:SS'\n",
    "    \"\"\"\n",
    "    try:\n",
    "        start = parse(start_time)\n",
    "        end = parse(end_time)\n",
    "        if start >= end:\n",
    "            delta = start - end\n",
    "            prefix = \"已過\"\n",
    "        else:\n",
    "            delta = end - start\n",
    "            prefix = \"還有\"\n",
    "        days = delta.days\n",
    "        hours = delta.seconds // 3600\n",
    "        minutes = (delta.seconds % 3600) // 60\n",
    "        return f\"{prefix} {days} 天 {hours} 小時 {minutes} 分鐘\"\n",
    "    except Exception as e:\n",
    "        return f\"錯誤: {e}\"\n",
    "\n",
    "# 將工具包裝成 LangChain Tool\n",
    "get_current_time_tool = StructuredTool.from_function(get_current_time)\n",
    "time_diff_tool = StructuredTool.from_function(calculate_time_difference)\n",
    "tools = [get_current_time_tool, time_diff_tool]"
   ]
  },
  {
   "cell_type": "code",
   "execution_count": 21,
   "id": "afb81e4d",
   "metadata": {},
   "outputs": [],
   "source": [
    "# 定義狀態結構\n",
    "class State(TypedDict):\n",
    "    messages: Annotated[list, add_messages]\n",
    "\n",
    "# 建立 Graph\n",
    "graph_builder = StateGraph(State)\n",
    "\n",
    "# 建立 LLM (支援工具呼叫)\n",
    "llm = init_chat_model(\"openai:gpt-4o\")\n",
    "llm_with_tools = llm.bind_tools(tools)\n",
    "\n",
    "# 建立LLM 節點：負責回應或呼叫工具\n",
    "def chatbot(state: State):\n",
    "    return {\"messages\": [llm_with_tools.invoke(state[\"messages\"])]}\n",
    "graph_builder.add_node(\"chatbot\", chatbot)\n",
    "\n",
    "# 工具節點：執行 AIMessage 中請求的工具\n",
    "class BasicToolNode:\n",
    "    def __init__(self, tools: list) -> None:\n",
    "        self.tools_by_name = {tool.name: tool for tool in tools}\n",
    "\n",
    "    def __call__(self, inputs: dict):\n",
    "        if messages := inputs.get(\"messages\", []):\n",
    "            message = messages[-1]\n",
    "        else:\n",
    "            raise ValueError(\"沒有可處理的訊息\")\n",
    "\n",
    "        outputs = []\n",
    "        for tool_call in message.tool_calls:\n",
    "            tool_result = self.tools_by_name[tool_call[\"name\"]].invoke(\n",
    "                tool_call[\"args\"]\n",
    "            )\n",
    "            outputs.append(\n",
    "                ToolMessage(\n",
    "                    content = json.dumps(tool_result, ensure_ascii=False),\n",
    "                    name=tool_call[\"name\"],\n",
    "                    tool_call_id=tool_call[\"id\"],\n",
    "                )\n",
    "            )\n",
    "        return {\"messages\": outputs}\n",
    "\n",
    "tool_node = BasicToolNode(tools=tools)\n",
    "graph_builder.add_node(\"tools\", tool_node)\n",
    "\n",
    "# 工具路由邏輯：決定是否需要進入工具節點\n",
    "def route_tools(state: State):\n",
    "    if isinstance(state, list):\n",
    "        ai_message = state[-1]\n",
    "    elif messages := state.get(\"messages\", []):\n",
    "        ai_message = messages[-1]\n",
    "    else:\n",
    "        raise ValueError(f\"無法找到可用的訊息: {state}\")\n",
    "\n",
    "    if hasattr(ai_message, \"tool_calls\") and len(ai_message.tool_calls) > 0:\n",
    "        return \"tools\"\n",
    "    return END\n",
    "\n",
    "# 建立圖形流程(Agent Loop)\n",
    "graph_builder.add_edge(START, \"chatbot\")\n",
    "graph_builder.add_conditional_edges(\n",
    "    \"chatbot\",     # 當前節點名稱: 代表 AI 回覆後，我們要決定下一步\n",
    "    route_tools,   # 條件判斷函數: 負責檢查 AI 回覆裡有沒有工具呼叫\n",
    "    {\"tools\": \"tools\", END: END},  # 條件映射: 定義可能的結果\n",
    ")\n",
    "graph_builder.add_edge(\"tools\", \"chatbot\")\n",
    "graph = graph_builder.compile()"
   ]
  },
  {
   "cell_type": "code",
   "execution_count": 23,
   "id": "0243d17e",
   "metadata": {},
   "outputs": [
    {
     "name": "stdout",
     "output_type": "stream",
     "text": [
      "User: 請問現在時間幾點?\n",
      "Assistant: \n",
      "[Assistant使用Tool: get_current_time] → \"2025-09-28 11:10:39\"\n",
      "Assistant: 現在的時間是 2025年9月28日 11:10:39。\n",
      "User: 請問現在時間離2025/12/31還有多久?\n",
      "Assistant: \n",
      "[Assistant使用Tool: get_current_time] → \"2025-09-28 11:10:48\"\n",
      "[Assistant使用Tool: get_current_time] → \"2025-09-28 11:10:48\"\n",
      "Assistant: \n",
      "[Assistant使用Tool: calculate_time_difference] → \"還有 93 天 12 小時 49 分鐘\"\n",
      "Assistant: 現在時間距離2025年12月31日還有93天12小時49分鐘。\n",
      "Goodbye!\n"
     ]
    }
   ],
   "source": [
    "# 執行聊天機器人\n",
    "def stream_graph_updates(user_input: str):\n",
    "    print(\"User:\", user_input)\n",
    "    for event in graph.stream({\"messages\": [{\"role\": \"user\", \"content\": user_input}]}):\n",
    "        for value in event.values():\n",
    "            for msg in value[\"messages\"]:\n",
    "                if msg.type == \"ai\":\n",
    "                    # AI 回覆，顯示給使用者\n",
    "                    print(\"Assistant:\", msg.content)\n",
    "                elif msg.type == \"tool\":\n",
    "                    # 工具回覆\n",
    "                    print(f\"[Assistant使用Tool: {msg.name}] → {msg.content}\")\n",
    "            \n",
    "while True:\n",
    "    try:\n",
    "        user_input = input(\"User: \")\n",
    "        if user_input.lower() in [\"quit\", \"exit\", \"q\"]:\n",
    "            print(\"Goodbye!\")\n",
    "            break\n",
    "        stream_graph_updates(user_input)\n",
    "    except:\n",
    "        # fallback if input() is not available\n",
    "        user_input = \"What do you know about LangGraph?\"\n",
    "        print(\"User: \" + user_input)\n",
    "        stream_graph_updates(user_input)\n",
    "        break"
   ]
  },
  {
   "cell_type": "code",
   "execution_count": 6,
   "id": "d76257e7",
   "metadata": {},
   "outputs": [
    {
     "data": {
      "image/png": "[encoded data removed]",
      "text/plain": [
       "<IPython.core.display.Image object>"
      ]
     },
     "metadata": {},
     "output_type": "display_data"
    }
   ],
   "source": [
    "# 視覺化\n",
    "from IPython.display import Image, display\n",
    "\n",
    "try:\n",
    "    display(Image(graph.get_graph().draw_mermaid_png()))\n",
    "except Exception:\n",
    "    # This requires some extra dependencies and is optional\n",
    "    pass"
   ]
  },
  {
   "cell_type": "code",
   "execution_count": null,
   "id": "b8981c94",
   "metadata": {},
   "outputs": [],
   "source": []
  }
 ],
 "metadata": {
  "kernelspec": {
   "display_name": "llm-tutorial",
   "language": "python",
   "name": "python3"
  },
  "language_info": {
   "codemirror_mode": {
    "name": "ipython",
    "version": 3
   },
   "file_extension": ".py",
   "mimetype": "text/x-python",
   "name": "python",
   "nbconvert_exporter": "python",
   "pygments_lexer": "ipython3",
   "version": "3.13.7"
  }
 },
 "nbformat": 4,
 "nbformat_minor": 5
}
