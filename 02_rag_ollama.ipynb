{
 "cells": [
  {
   "cell_type": "markdown",
   "id": "6d33638d",
   "metadata": {},
   "source": [
    "## LangChain-檢索增強生成(RAG)範例-Ollama\n",
    "2025/06/29 蘇彥庭\n",
    "\n",
    "* 本篇範例主要建立中國四大名著的RAG\n",
    "    * 四大名著文本[下載位置](https://github.com/tennessine/corpus)\n",
    "    * 四大名著:《三國演義》、《西遊記》、《水滸傳》、《紅樓夢》\n",
    "* Text-embeddings Model採用`nomic-embed-text`(以Ollma來部署)\n",
    "    * [Model資訊連結](https://ollama.com/library/nomic-embed-text)\n",
    "    * Ollma下載模型指令: `ollama pull nomic-embed-text:v1.5`\n",
    "* 聊天模型採用`gemma3:1b`(以Ollma來部署)\n",
    "    * [Model資訊連結](https://ollama.com/library/gemma3)\n",
    "    * Ollma下載模型指令: `ollama pull gemma3:1b`"
   ]
  },
  {
   "cell_type": "code",
   "execution_count": 3,
   "id": "16835602",
   "metadata": {},
   "outputs": [],
   "source": [
    "from langchain_ollama import OllamaEmbeddings\n",
    "from langchain_community.vectorstores import Chroma\n",
    "from langchain_community.llms import Ollama\n",
    "from langchain.chains import RetrievalQA\n",
    "from langchain.text_splitter import RecursiveCharacterTextSplitter\n",
    "from langchain_community.document_loaders import TextLoader\n",
    "import os"
   ]
  },
  {
   "cell_type": "code",
   "execution_count": 4,
   "id": "1cc3761d",
   "metadata": {},
   "outputs": [],
   "source": [
    "# 設定文本切割器\n",
    "text_splitter = RecursiveCharacterTextSplitter(chunk_size=500, chunk_overlap=50)"
   ]
  },
  {
   "cell_type": "markdown",
   "id": "fab55199",
   "metadata": {},
   "source": [
    "* 文本切割相關文章\n",
    "    * [Langchain's Character Text Splitter - In-Depth Explanation](https://medium.com/@krishnahariharan/langchains-character-text-splitter-in-depth-explanation-5b0bf743121c)"
   ]
  },
  {
   "cell_type": "code",
   "execution_count": 5,
   "id": "d74f8f0a",
   "metadata": {},
   "outputs": [
    {
     "name": "stdout",
     "output_type": "stream",
     "text": [
      "已完成切割，共切出 1749 個 chunks\n"
     ]
    }
   ],
   "source": [
    "# 讀取文本進行切分\n",
    "# folder_path = \"docs\" \n",
    "# docs = []\n",
    "# for f in os.listdir(folder_path):\n",
    "#     file_path = os.path.join(folder_path, f)\n",
    "#     if os.path.isfile(file_path) and f.endswith(\".txt\"):\n",
    "#         loader = TextLoader(file_path, encoding=\"utf-8\")\n",
    "#         # 直接載入並切割後 append\n",
    "#         docs.extend(text_splitter.split_documents(loader.load()))\n",
    "\n",
    "filePath = \"docs\\三国演义.txt\"\n",
    "loader = TextLoader(filePath, encoding=\"utf-8\")\n",
    "docs = text_splitter.split_documents(loader.load())\n",
    "\n",
    "print(f\"已完成切割，共切出 {len(docs)} 個 chunks\")"
   ]
  },
  {
   "cell_type": "code",
   "execution_count": 6,
   "id": "7de5c817",
   "metadata": {},
   "outputs": [
    {
     "name": "stdout",
     "output_type": "stream",
     "text": [
      "【Chunk 0 - docs\\三国演义.txt】\n",
      "《三国演义》罗贯中\n",
      "\n",
      "第一回 宴桃园豪杰三结义 斩黄巾英雄首立功\n",
      "\n",
      "    \t\t\n",
      "\n",
      "    滚滚长江东逝水，浪花淘尽英雄。是非成败转头空。\n",
      "\n",
      "    青山依旧在，几度夕阳红。白发渔樵江渚上，惯\n",
      "\n",
      "    看秋月春风。一壶浊酒喜相逢。古今多少事，都付\n",
      "\n",
      "    笑谈中。\n",
      "\n",
      "    ——调寄《临江仙》\n",
      "\n",
      "    话说天下大势，分久必合，合久必分。周末七国分争，并入于秦。及秦灭之后，楚、汉分争，又并入于汉。汉朝自高祖斩白蛇而起义，一统天下，后来光武中兴，传至献帝，遂分为三国。推其致乱之由，殆始于桓、灵二帝。桓帝禁锢善类，崇信宦官。及桓帝崩，灵帝即位，大将军窦武、太傅陈蕃共相辅佐。时有宦官曹节等弄权，窦武、陈蕃谋诛之，机事不密，反为所害，中涓自此愈横。\n",
      "\n",
      "【Chunk 1 - docs\\三国演义.txt】\n",
      "建宁二年四月望日，帝御温德殿。方升座，殿角狂风骤起。只见一条大青蛇，从梁上飞将下来，蟠于椅上。帝惊倒，左右急救入宫，百官俱奔避。须臾，蛇不见了。忽然大雷大雨，加以冰雹，落到半夜方止，坏却房屋无数。建宁四年二月，洛阳地震；又海水泛溢，沿海居民，尽被大浪卷入海中。光和元年，雌鸡化雄。六月朔，黑气十余丈，飞入温德殿中。秋七月，有虹现于玉堂；五原山岸，尽皆崩裂。种种不祥，非止一端。帝下诏问群臣以灾异之由，议郎蔡邕上疏，以为蜺堕鸡化，乃妇寺干政之所致，言颇切直。帝览奏叹息，因起更衣。曹节在后窃视，悉宣告左右；遂以他事陷邕于罪，放归田里。后张让、赵忠、封谞、段珪、曹节、侯览、蹇硕、程旷、夏恽、郭胜十人朋比为奸，号为“十常侍”。帝尊信张让，呼为“阿父”。朝政日非，以致天下人心思乱，盗贼蜂起。\n",
      "\n",
      "【Chunk 2 - docs\\三国演义.txt】\n",
      "时巨鹿郡有兄弟三人，一名张角，一名张宝，一名张梁。那张角本是个不第秀才，因入山采药，遇一老人，碧眼童颜，手执藜杖，唤角至一洞中，以天书三卷授之，曰：“此名《太平要术》，汝得之，当代天宣化，普救世人；若萌异心，必获恶报。”角拜问姓名。老人曰：“吾乃南华老仙也。”言讫，化阵清风而去。角得此书，晓夜攻习，能呼风唤雨，号为“太平道人”。中平元年正月内，疫气流行，张角散施符水，为人治病，自称“大贤良师”。角有徒弟五百余人，云游四方，皆能书符念咒。次后徒众日多，角乃立三十六方，大方万余人，小方六七千，各立渠帅，称为将军；讹言：“苍天已死，黄天当立；岁在甲子，天下大吉。”令人各以白土书“甲子”二字于家中大门上。青、幽、徐、冀、荆、扬、兖、豫八州之人，家家侍奉大贤良师张角名字。角遣其党马元义，暗赍金帛，结交中涓封谞，以为内应。角与二弟商议曰：“至难得者，民心也。今民心已顺，若不乘势取天下，诚为可惜。”遂一面私造黄旗，约期举事；一面使弟子唐周，驰书报封谞。唐周乃径赴省中告变。帝召大将军何进调兵擒马元义，斩之；次收封谞等一干人下狱。张角闻知事露，星夜举兵，自称“天公将军”，张宝称“地公将军”，张梁称“人\n",
      "\n",
      "【Chunk 3 - docs\\三国演义.txt】\n",
      "斩之；次收封谞等一干人下狱。张角闻知事露，星夜举兵，自称“天公将军”，张宝称“地公将军”，张梁称“人公将军”。申言于众曰：“今汉运将终，大圣人出。汝等皆宜顺天从正，以乐太平。”四方百姓，裹黄巾从张角反者四五十万。贼势浩大，官军望风而靡。何进奏帝火速降诏，令各处备御，讨贼立功。一面遣中郎将卢植、皇甫嵩、朱儁，各引精兵、分三路讨之。\n",
      "\n",
      "【Chunk 4 - docs\\三国演义.txt】\n",
      "且说张角一军，前犯幽州界分。幽州太守刘焉，乃江夏竟陵人氏，汉鲁恭王之后也。当时闻得贼兵将至，召校尉邹靖计议。靖曰：“贼兵众，我兵寡，明公宜作速招军应敌。”刘焉然其说，随即出榜招募义兵。\n",
      "\n",
      "    榜文行到涿县，引出涿县中一个英雄。那人不甚好读书；性宽和，寡言语，喜怒不形于色；素有大志，专好结交天下豪杰；生得身长七尺五寸，两耳垂肩，双手过膝，目能自顾其耳，面如冠玉，唇若涂脂；中山靖王刘胜之后，汉景帝阁下玄孙，姓刘名备，字玄德。昔刘胜之子刘贞，汉武时封涿鹿亭侯，后坐酎金失侯，因此遗这一枝在涿县。玄德祖刘雄，父刘弘。弘曾举孝廉，亦尝作吏，早丧。玄德幼孤，事母至孝；家贫，贩屦织席为业。家住本县楼桑村。其家之东南，有一大桑树，高五丈余，遥望之，童童如车盖。相者云：“此家必出贵人。”玄德幼时，与乡中小儿戏于树下，曰：“我为天子，当乘此车盖。”叔父刘元起奇其言，曰：“此儿非常人也！”因见玄德家贫，常资给之。年十五岁，母使游学，尝师事郑玄、卢植，与公孙瓒等为友。\n",
      "\n"
     ]
    }
   ],
   "source": [
    "# 顯示切割結果(取前5篇)\n",
    "for i, doc in enumerate(docs[0:5]):\n",
    "    print(f\"【Chunk {i} - {doc.metadata.get('source')}】\\n{doc.page_content}\\n\")"
   ]
  },
  {
   "cell_type": "code",
   "execution_count": 7,
   "id": "1b4f0c43",
   "metadata": {},
   "outputs": [],
   "source": [
    "# 建立 Embeddings\n",
    "embedding_model_name = \"nomic-embed-text:v1.5\"\n",
    "embeddings = OllamaEmbeddings(model=embedding_model_name)"
   ]
  },
  {
   "cell_type": "code",
   "execution_count": 8,
   "id": "5ba1150b",
   "metadata": {},
   "outputs": [
    {
     "name": "stdout",
     "output_type": "stream",
     "text": [
      "\n",
      "=== Chunk 1 ===\n",
      "《三国演义》罗贯中\n",
      "\n",
      "第一回 宴桃园豪杰三结义 斩黄巾英雄首立功\n",
      "\n",
      "    \t\t\n",
      "\n",
      "    滚滚长江东逝水，浪花淘尽英雄。是非成败转头空。\n",
      "\n",
      "    青山依旧在，几度夕阳红。白发渔樵江渚上，惯\n",
      "\n",
      "    看秋月春风。一壶浊酒喜相逢。古今多少事，都付\n",
      "\n",
      "    笑谈中。\n",
      "\n",
      "    ——调寄《临江仙》\n",
      "\n",
      "    话说天下大势，分久必合，合久必分。周末七国分争，并入于秦。及秦灭之后，楚、汉分争，又并入于\n",
      "向量長度: 768\n",
      "向量前 10 維: [0.011270066, 0.025355915, -0.16098003, -0.031632185, 0.052455347, 0.057537183, 0.0015493581, -0.018163009, -0.006354736, 0.013061971]\n",
      "\n",
      "=== Chunk 2 ===\n",
      "建宁二年四月望日，帝御温德殿。方升座，殿角狂风骤起。只见一条大青蛇，从梁上飞将下来，蟠于椅上。帝惊倒，左右急救入宫，百官俱奔避。须臾，蛇不见了。忽然大雷大雨，加以冰雹，落到半夜方止，坏却房屋无数。建宁四年二月，洛阳地震；又海水泛溢，沿海居民，尽被大浪卷入海中。光和元年，雌鸡化雄。六月朔，黑气十余丈，飞入温德殿中。秋七月，有虹现于玉堂；五原山岸，尽皆崩裂。种种不祥，非止一端。帝下诏问群臣以灾异之由，\n",
      "向量長度: 768\n",
      "向量前 10 維: [0.009261503, 0.021552268, -0.18155636, -0.007987923, -0.020716637, 0.00804173, 0.06410436, -0.03425317, -0.0022806493, -0.042737152]\n",
      "\n",
      "=== Chunk 3 ===\n",
      "时巨鹿郡有兄弟三人，一名张角，一名张宝，一名张梁。那张角本是个不第秀才，因入山采药，遇一老人，碧眼童颜，手执藜杖，唤角至一洞中，以天书三卷授之，曰：“此名《太平要术》，汝得之，当代天宣化，普救世人；若萌异心，必获恶报。”角拜问姓名。老人曰：“吾乃南华老仙也。”言讫，化阵清风而去。角得此书，晓夜攻习，能呼风唤雨，号为“太平道人”。中平元年正月内，疫气流行，张角散施符水，为人治病，自称“大贤良师”。角\n",
      "向量長度: 768\n",
      "向量前 10 維: [-0.0033749824, 0.026420502, -0.16794415, -0.009568377, 0.0401057, 0.031248072, 0.0026093612, -0.045911595, -0.010334607, 0.00043875971]\n",
      "\n",
      "=== Chunk 4 ===\n",
      "斩之；次收封谞等一干人下狱。张角闻知事露，星夜举兵，自称“天公将军”，张宝称“地公将军”，张梁称“人公将军”。申言于众曰：“今汉运将终，大圣人出。汝等皆宜顺天从正，以乐太平。”四方百姓，裹黄巾从张角反者四五十万。贼势浩大，官军望风而靡。何进奏帝火速降诏，令各处备御，讨贼立功。一面遣中郎将卢植、皇甫嵩、朱儁，各引精兵、分三路讨之。\n",
      "向量長度: 768\n",
      "向量前 10 維: [0.006680168, 0.04520686, -0.1669398, -0.0038666849, -0.008378624, 0.042502463, -0.0057163057, -0.0031281055, -0.044398732, -0.040421583]\n",
      "\n",
      "=== Chunk 5 ===\n",
      "且说张角一军，前犯幽州界分。幽州太守刘焉，乃江夏竟陵人氏，汉鲁恭王之后也。当时闻得贼兵将至，召校尉邹靖计议。靖曰：“贼兵众，我兵寡，明公宜作速招军应敌。”刘焉然其说，随即出榜招募义兵。\n",
      "\n",
      "    榜文行到涿县，引出涿县中一个英雄。那人不甚好读书；性宽和，寡言语，喜怒不形于色；素有大志，专好结交天下豪杰；生得身长七尺五寸，两耳垂肩，双手过膝，目能自顾其耳，面如冠玉，唇若涂脂；中山靖王刘胜之后，汉景帝\n",
      "向量長度: 768\n",
      "向量前 10 維: [0.020005578, 0.0437801, -0.16178232, -0.018576168, 0.026481599, 0.02612907, 0.037861086, -0.0117277, 0.02253644, -0.015898785]\n"
     ]
    }
   ],
   "source": [
    "# Chunk做Embeddings的範例(取前5篇)\n",
    "texts = [doc.page_content for doc in docs[0:5]]\n",
    "vectors = embeddings.embed_documents(texts)\n",
    "for i in range(len(texts)):\n",
    "    print(f\"\\n=== Chunk {i+1} ===\")\n",
    "    print(texts[i][:200])   # 顯示 chunk 前 200 字\n",
    "    print(f\"向量長度: {len(vectors[i])}\")\n",
    "    print(f\"向量前 10 維: {vectors[i][:10]}\")"
   ]
  },
  {
   "cell_type": "code",
   "execution_count": 9,
   "id": "a1205a59",
   "metadata": {},
   "outputs": [
    {
     "name": "stdout",
     "output_type": "stream",
     "text": [
      "未偵測到 Chroma 向量資料庫，建立新向量資料庫...\n"
     ]
    },
    {
     "name": "stderr",
     "output_type": "stream",
     "text": [
      "Failed to send telemetry event ClientStartEvent: capture() takes 1 positional argument but 3 were given\n",
      "Failed to send telemetry event ClientCreateCollectionEvent: capture() takes 1 positional argument but 3 were given\n"
     ]
    }
   ],
   "source": [
    "# 建立向量資料庫\n",
    "persist_directory = \"./chroma_db_ollama\"\n",
    "if os.path.exists(os.path.join(persist_directory, \"index\")):\n",
    "    print(\"偵測到已有 Chroma 向量資料庫，直接載入...\")\n",
    "    db = Chroma(\n",
    "        persist_directory=persist_directory,\n",
    "        embedding_function=embeddings\n",
    "    )\n",
    "else:\n",
    "    print(\"未偵測到 Chroma 向量資料庫，建立新向量資料庫...\")\n",
    "    db = Chroma.from_documents(\n",
    "        docs,\n",
    "        embeddings,\n",
    "        persist_directory=persist_directory\n",
    "    )"
   ]
  },
  {
   "cell_type": "code",
   "execution_count": 10,
   "id": "8ecd28e4",
   "metadata": {},
   "outputs": [],
   "source": [
    "# 設定檢索器\n",
    "# k: 每次檢索時 從向量資料庫中取回最相關的 Top-k 筆文件段落(chunks)\n",
    "retriever = db.as_retriever(search_kwargs={\"k\": 5})"
   ]
  },
  {
   "cell_type": "code",
   "execution_count": 11,
   "id": "9490ab18",
   "metadata": {},
   "outputs": [
    {
     "name": "stderr",
     "output_type": "stream",
     "text": [
      "C:\\Users\\User\\AppData\\Local\\Temp\\ipykernel_9908\\4039160444.py:3: LangChainDeprecationWarning: The class `Ollama` was deprecated in LangChain 0.3.1 and will be removed in 1.0.0. An updated version of the class exists in the :class:`~langchain-ollama package and should be used instead. To use it run `pip install -U :class:`~langchain-ollama` and import as `from :class:`~langchain_ollama import OllamaLLM``.\n",
      "  llm = Ollama(\n"
     ]
    }
   ],
   "source": [
    "# 建立 RAG QA Chain\n",
    "llm_model_name = \"gemma3:1b\"\n",
    "llm = Ollama(\n",
    "    model=llm_model_name, \n",
    "    temperature=0.2  # 溫度(temperature)控制生成回答時的隨機性，介於0(保守)至1(隨機)\n",
    ")\n",
    "qa = RetrievalQA.from_chain_type(\n",
    "    llm=llm,\n",
    "    chain_type=\"stuff\", # 將所有檢索到的段落「直接拼接」在一起，與問題一起輸入 LLM（最簡單、適合段落少時使用）\n",
    "    retriever=retriever,\n",
    "    return_source_documents=True\n",
    ")"
   ]
  },
  {
   "cell_type": "markdown",
   "id": "3c47e169",
   "metadata": {},
   "source": [
    "* RetrievalQA的chain_type參考文章\n",
    "    * [Using langchain for Question Answering on Own Data](https://medium.com/@onkarmishra/using-langchain-for-question-answering-on-own-data-3af0a82789ed)  "
   ]
  },
  {
   "cell_type": "code",
   "execution_count": 14,
   "id": "d6bcde25",
   "metadata": {},
   "outputs": [
    {
     "data": {
      "text/plain": [
       "PromptTemplate(input_variables=['context', 'question'], input_types={}, partial_variables={}, template=\"Use the following pieces of context to answer the question at the end. If you don't know the answer, just say that you don't know, don't try to make up an answer.\\n\\n{context}\\n\\nQuestion: {question}\\nHelpful Answer:\")"
      ]
     },
     "execution_count": 14,
     "metadata": {},
     "output_type": "execute_result"
    }
   ],
   "source": [
    "# LangCahin RetrievalQA 的Prompt Template\n",
    "qa.combine_documents_chain.llm_chain.prompt"
   ]
  },
  {
   "cell_type": "markdown",
   "id": "d417d210",
   "metadata": {},
   "source": [
    "LangCahin RetrievalQA 的Prompt Template:\n",
    "\n",
    "```python\n",
    "PromptTemplate(\n",
    "    input_variables=['context', 'question'], \n",
    "    input_types={}, partial_variables={}, \n",
    "    template=\"Use the following pieces of context to answer the question at the end. \" \\\n",
    "    \"If you don't know the answer, just say that you don't know, don't try to make up an answer.\" \\\n",
    "    \"\\n\\n{context}\\n\\nQuestion: {question}\\nHelpful Answer:\"\n",
    "    )\n",
    "```"
   ]
  },
  {
   "cell_type": "code",
   "execution_count": 34,
   "id": "4af874e7",
   "metadata": {},
   "outputs": [
    {
     "name": "stdout",
     "output_type": "stream",
     "text": [
      "\n",
      "=== 回覆 ===\n",
      "根據提供的文本，曹操被評價為「治世之能臣，亂世之奸雄」。\n",
      "\n",
      "**理由：**\n",
      "\n",
      "文本中多次提到曹操的才華和能力，例如：「曹操說出甚話來，乃严峻低头丧气而不能对。」、「曹操说出甚话来，且听下文分解。」、「曹操说出甚话来，且听下文分解。」，以及对他的军事才能和政治智慧的赞赏。因此，文本中反复提及的评价都指向他是一位卓越的政治家和军事家，能够有效地治理国家，并以其卓越的才能在乱世中取得胜利。\n",
      "\n",
      "\n",
      "=== 檢索來源 (僅呈現前300字) ===\n",
      "\n",
      "--- Source 1 (docs\\三国演义.txt) ---\n",
      "乱；思善则生治，理之常也，故周文养民，以少取多；句践恤众，以弱毙强。此其术也。或曰：曩者楚强汉弱，约分鸿沟，张良以为民志既定则难动也，率兵追羽，终毙项氏；岂必由文王、句践之事乎？曰：商、周之际，王侯世尊，君臣久固。当此之时，虽有汉祖，安能仗剑取天下乎？及秦罢侯置守之后，民疲秦役，天下土崩，于是豪杰并争。今我与彼，皆传国易世矣，既非秦末鼎沸之时，实有六国并据之势，故可为文王，难为汉祖。时可而后动，数合而后举，故汤、武之师，不再战而克，诚重民劳而度时审也。如遂极武黩征，不幸遇难，虽有智者，不能谋之矣。”姜维看毕，大怒曰：“此腐儒之论也！”掷之于地，遂提川兵来取中原。乃问傅佥曰：“以公度之，可出何地\n",
      "\n",
      "--- Source 2 (docs\\三国演义.txt) ---\n",
      "座上一人忽曰：“孔明所言，皆强词夺理，均非正论，不必再言。且请问孔明治何经典？”孔明视之，乃严酸也。孔明曰：“寻章摘句，世之腐儒也，何能兴邦立事？且古耕莘伊尹，钓渭子牙，张良、陈平之流。邓禹、耿弇之辈，皆有匡扶宇宙之才，未审其生平治何经典。岂亦效书生，区区于笔砚之间，数黑论黄，舞文弄墨而已乎？”严峻低头丧气而不能对。\n",
      "\n",
      "--- Source 3 (docs\\三国演义.txt) ---\n",
      "发耳。但当速发雷霆，行权立断，则天人顺之。却反外檄大臣，临犯京阙，英雄聚会，各怀一心：所谓倒持干戈，授人以柄，功必不成，反生乱矣。”何进笑曰：“此懦夫之见也！”傍边一人鼓掌大笑曰：“此事易如反掌，何必多议！”视之，乃曹操也。正是：欲除君侧宵人乱，须听朝中智士谋。不知曹操说出甚话来，且听下文分解。\n",
      "\n",
      "--- Source 4 (docs\\三国演义.txt) ---\n",
      "孙策既死，孙权哭倒于床前。张昭曰：“此非将军哭时也。宜一面治丧事，一面理军国大事。”权乃收泪。张昭令孙静理会丧事，请孙权出堂，受众文武谒贺。孙权生得方颐大口，碧眼紫髯。昔汉使刘琬入吴，见孙家诸昆仲，因语人曰：“吾遍观孙氏兄弟，虽各才气秀达，然皆禄祚不终。惟仲谋形貌奇伟，骨格非常，乃大贵之表，又亨高寿，众皆不及也。”\n",
      "\n",
      "--- Source 5 (docs\\三国演义.txt) ---\n",
      "说之。”众视之，乃张辽也。程昱曰：“文远虽与云长有旧，吾观此人，非可以言词说也。某有一计，使此人进退无路，然后用文远说之，彼必归丞相矣。”正是：整备窝弓射猛虎，安排香饵钓鳌鱼。未知其计若何，且听下文分解。\n"
     ]
    }
   ],
   "source": [
    "# 提問 & 回覆\n",
    "# query = \"請問劉備底下有哪些武將?請用繁體中文回答。\"\n",
    "# query = \"張飛的武器是什麼?請用繁體中文回答。\"\n",
    "query = \"誰對曹操的評價是'治世之能臣，亂世之奸雄'?請用繁體中文回答。\"\n",
    "result = qa(query)\n",
    "\n",
    "print(\"\\n=== 回覆 ===\")\n",
    "print(result[\"result\"])\n",
    "\n",
    "print(\"\\n=== 檢索來源 (僅呈現前300字) ===\")\n",
    "for idx, doc in enumerate(result[\"source_documents\"]):\n",
    "    print(f\"\\n--- Source {idx+1} ({doc.metadata.get('source')}) ---\")\n",
    "    print(doc.page_content[:300])"
   ]
  },
  {
   "cell_type": "code",
   "execution_count": null,
   "id": "31f92c4b",
   "metadata": {},
   "outputs": [],
   "source": []
  }
 ],
 "metadata": {
  "kernelspec": {
   "display_name": ".venv",
   "language": "python",
   "name": "python3"
  },
  "language_info": {
   "codemirror_mode": {
    "name": "ipython",
    "version": 3
   },
   "file_extension": ".py",
   "mimetype": "text/x-python",
   "name": "python",
   "nbconvert_exporter": "python",
   "pygments_lexer": "ipython3",
   "version": "3.11.9"
  }
 },
 "nbformat": 4,
 "nbformat_minor": 5
}
