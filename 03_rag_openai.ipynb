{
 "cells": [
  {
   "cell_type": "markdown",
   "id": "6d33638d",
   "metadata": {},
   "source": [
    "## LangChain-檢索增強生成(RAG)範例-OpenAI\n",
    "2025/06/29 蘇彥庭\n",
    "\n",
    "* 本篇範例主要建立中國四大名著的RAG\n",
    "    * 四大名著文本[下載位置](https://github.com/tennessine/corpus)\n",
    "    * 四大名著:《三國演義》、《西遊記》、《水滸傳》、《紅樓夢》\n",
    "* Text-embeddings Model採用OpenAI API的`text-embedding-3-small`\n",
    "* 聊天模型採用OpenAI API的`gpt-4o-mini`"
   ]
  },
  {
   "cell_type": "code",
   "execution_count": 1,
   "id": "16835602",
   "metadata": {},
   "outputs": [
    {
     "data": {
      "text/plain": [
       "True"
      ]
     },
     "execution_count": 1,
     "metadata": {},
     "output_type": "execute_result"
    }
   ],
   "source": [
    "from langchain_openai import OpenAIEmbeddings, ChatOpenAI\n",
    "from langchain_community.vectorstores import Chroma\n",
    "from langchain_community.llms import Ollama\n",
    "from langchain.chains import RetrievalQA\n",
    "from langchain.text_splitter import RecursiveCharacterTextSplitter\n",
    "from langchain_community.document_loaders import TextLoader\n",
    "import os\n",
    "\n",
    "from dotenv import load_dotenv\n",
    "load_dotenv()  # 讀取環境變數(OpenAI API Key)"
   ]
  },
  {
   "cell_type": "code",
   "execution_count": 2,
   "id": "1cc3761d",
   "metadata": {},
   "outputs": [],
   "source": [
    "# 設定文本切割器\n",
    "text_splitter = RecursiveCharacterTextSplitter(chunk_size=500, chunk_overlap=50)"
   ]
  },
  {
   "cell_type": "markdown",
   "id": "fab55199",
   "metadata": {},
   "source": [
    "* 文本切割相關文章\n",
    "    * [Langchain's Character Text Splitter - In-Depth Explanation](https://medium.com/@krishnahariharan/langchains-character-text-splitter-in-depth-explanation-5b0bf743121c)"
   ]
  },
  {
   "cell_type": "code",
   "execution_count": 3,
   "id": "d74f8f0a",
   "metadata": {},
   "outputs": [
    {
     "name": "stdout",
     "output_type": "stream",
     "text": [
      "已完成切割，共切出 1749 個 chunks\n"
     ]
    }
   ],
   "source": [
    "# 讀取文本進行切分\n",
    "# folder_path = \"docs\" \n",
    "# docs = []\n",
    "# for f in os.listdir(folder_path):\n",
    "#     file_path = os.path.join(folder_path, f)\n",
    "#     if os.path.isfile(file_path) and f.endswith(\".txt\"):\n",
    "#         loader = TextLoader(file_path, encoding=\"utf-8\")\n",
    "#         # 直接載入並切割後 append\n",
    "#         docs.extend(text_splitter.split_documents(loader.load()))\n",
    "\n",
    "filePath = \"docs\\三国演义.txt\"\n",
    "loader = TextLoader(filePath, encoding=\"utf-8\")\n",
    "docs = text_splitter.split_documents(loader.load())\n",
    "\n",
    "print(f\"已完成切割，共切出 {len(docs)} 個 chunks\")"
   ]
  },
  {
   "cell_type": "code",
   "execution_count": 4,
   "id": "7de5c817",
   "metadata": {},
   "outputs": [
    {
     "name": "stdout",
     "output_type": "stream",
     "text": [
      "【Chunk 0 - docs\\三国演义.txt】\n",
      "《三国演义》罗贯中\n",
      "\n",
      "第一回 宴桃园豪杰三结义 斩黄巾英雄首立功\n",
      "\n",
      "    \t\t\n",
      "\n",
      "    滚滚长江东逝水，浪花淘尽英雄。是非成败转头空。\n",
      "\n",
      "    青山依旧在，几度夕阳红。白发渔樵江渚上，惯\n",
      "\n",
      "    看秋月春风。一壶浊酒喜相逢。古今多少事，都付\n",
      "\n",
      "    笑谈中。\n",
      "\n",
      "    ——调寄《临江仙》\n",
      "\n",
      "    话说天下大势，分久必合，合久必分。周末七国分争，并入于秦。及秦灭之后，楚、汉分争，又并入于汉。汉朝自高祖斩白蛇而起义，一统天下，后来光武中兴，传至献帝，遂分为三国。推其致乱之由，殆始于桓、灵二帝。桓帝禁锢善类，崇信宦官。及桓帝崩，灵帝即位，大将军窦武、太傅陈蕃共相辅佐。时有宦官曹节等弄权，窦武、陈蕃谋诛之，机事不密，反为所害，中涓自此愈横。\n",
      "\n",
      "【Chunk 1 - docs\\三国演义.txt】\n",
      "建宁二年四月望日，帝御温德殿。方升座，殿角狂风骤起。只见一条大青蛇，从梁上飞将下来，蟠于椅上。帝惊倒，左右急救入宫，百官俱奔避。须臾，蛇不见了。忽然大雷大雨，加以冰雹，落到半夜方止，坏却房屋无数。建宁四年二月，洛阳地震；又海水泛溢，沿海居民，尽被大浪卷入海中。光和元年，雌鸡化雄。六月朔，黑气十余丈，飞入温德殿中。秋七月，有虹现于玉堂；五原山岸，尽皆崩裂。种种不祥，非止一端。帝下诏问群臣以灾异之由，议郎蔡邕上疏，以为蜺堕鸡化，乃妇寺干政之所致，言颇切直。帝览奏叹息，因起更衣。曹节在后窃视，悉宣告左右；遂以他事陷邕于罪，放归田里。后张让、赵忠、封谞、段珪、曹节、侯览、蹇硕、程旷、夏恽、郭胜十人朋比为奸，号为“十常侍”。帝尊信张让，呼为“阿父”。朝政日非，以致天下人心思乱，盗贼蜂起。\n",
      "\n",
      "【Chunk 2 - docs\\三国演义.txt】\n",
      "时巨鹿郡有兄弟三人，一名张角，一名张宝，一名张梁。那张角本是个不第秀才，因入山采药，遇一老人，碧眼童颜，手执藜杖，唤角至一洞中，以天书三卷授之，曰：“此名《太平要术》，汝得之，当代天宣化，普救世人；若萌异心，必获恶报。”角拜问姓名。老人曰：“吾乃南华老仙也。”言讫，化阵清风而去。角得此书，晓夜攻习，能呼风唤雨，号为“太平道人”。中平元年正月内，疫气流行，张角散施符水，为人治病，自称“大贤良师”。角有徒弟五百余人，云游四方，皆能书符念咒。次后徒众日多，角乃立三十六方，大方万余人，小方六七千，各立渠帅，称为将军；讹言：“苍天已死，黄天当立；岁在甲子，天下大吉。”令人各以白土书“甲子”二字于家中大门上。青、幽、徐、冀、荆、扬、兖、豫八州之人，家家侍奉大贤良师张角名字。角遣其党马元义，暗赍金帛，结交中涓封谞，以为内应。角与二弟商议曰：“至难得者，民心也。今民心已顺，若不乘势取天下，诚为可惜。”遂一面私造黄旗，约期举事；一面使弟子唐周，驰书报封谞。唐周乃径赴省中告变。帝召大将军何进调兵擒马元义，斩之；次收封谞等一干人下狱。张角闻知事露，星夜举兵，自称“天公将军”，张宝称“地公将军”，张梁称“人\n",
      "\n",
      "【Chunk 3 - docs\\三国演义.txt】\n",
      "斩之；次收封谞等一干人下狱。张角闻知事露，星夜举兵，自称“天公将军”，张宝称“地公将军”，张梁称“人公将军”。申言于众曰：“今汉运将终，大圣人出。汝等皆宜顺天从正，以乐太平。”四方百姓，裹黄巾从张角反者四五十万。贼势浩大，官军望风而靡。何进奏帝火速降诏，令各处备御，讨贼立功。一面遣中郎将卢植、皇甫嵩、朱儁，各引精兵、分三路讨之。\n",
      "\n",
      "【Chunk 4 - docs\\三国演义.txt】\n",
      "且说张角一军，前犯幽州界分。幽州太守刘焉，乃江夏竟陵人氏，汉鲁恭王之后也。当时闻得贼兵将至，召校尉邹靖计议。靖曰：“贼兵众，我兵寡，明公宜作速招军应敌。”刘焉然其说，随即出榜招募义兵。\n",
      "\n",
      "    榜文行到涿县，引出涿县中一个英雄。那人不甚好读书；性宽和，寡言语，喜怒不形于色；素有大志，专好结交天下豪杰；生得身长七尺五寸，两耳垂肩，双手过膝，目能自顾其耳，面如冠玉，唇若涂脂；中山靖王刘胜之后，汉景帝阁下玄孙，姓刘名备，字玄德。昔刘胜之子刘贞，汉武时封涿鹿亭侯，后坐酎金失侯，因此遗这一枝在涿县。玄德祖刘雄，父刘弘。弘曾举孝廉，亦尝作吏，早丧。玄德幼孤，事母至孝；家贫，贩屦织席为业。家住本县楼桑村。其家之东南，有一大桑树，高五丈余，遥望之，童童如车盖。相者云：“此家必出贵人。”玄德幼时，与乡中小儿戏于树下，曰：“我为天子，当乘此车盖。”叔父刘元起奇其言，曰：“此儿非常人也！”因见玄德家贫，常资给之。年十五岁，母使游学，尝师事郑玄、卢植，与公孙瓒等为友。\n",
      "\n"
     ]
    }
   ],
   "source": [
    "# 顯示切割結果(取前5篇)\n",
    "for i, doc in enumerate(docs[0:5]):\n",
    "    print(f\"【Chunk {i} - {doc.metadata.get('source')}】\\n{doc.page_content}\\n\")"
   ]
  },
  {
   "cell_type": "code",
   "execution_count": 13,
   "id": "1b4f0c43",
   "metadata": {},
   "outputs": [],
   "source": [
    "# 建立 Embeddings\n",
    "embedding_model_name = \"text-embedding-3-small\"\n",
    "embeddings = OpenAIEmbeddings(model=embedding_model_name)"
   ]
  },
  {
   "cell_type": "code",
   "execution_count": 9,
   "id": "5ba1150b",
   "metadata": {},
   "outputs": [
    {
     "name": "stdout",
     "output_type": "stream",
     "text": [
      "\n",
      "=== Chunk 1 ===\n",
      "《三国演义》罗贯中\n",
      "\n",
      "第一回 宴桃园豪杰三结义 斩黄巾英雄首立功\n",
      "\n",
      "    \t\t\n",
      "\n",
      "    滚滚长江东逝水，浪花淘尽英雄。是非成败转头空。\n",
      "\n",
      "    青山依旧在，几度夕阳红。白发渔樵江渚上，惯\n",
      "\n",
      "    看秋月春风。一壶浊酒喜相逢。古今多少事，都付\n",
      "\n",
      "    笑谈中。\n",
      "\n",
      "    ——调寄《临江仙》\n",
      "\n",
      "    话说天下大势，分久必合，合久必分。周末七国分争，并入于秦。及秦灭之后，楚、汉分争，又并入于\n",
      "向量長度: 1536\n",
      "向量前 10 維: [-0.021732984110713005, 0.0007308850181289017, 0.030244624242186546, -0.010845132172107697, 0.01732230931520462, -0.033576659858226776, -0.022598031908273697, 0.016190271824598312, -0.016521338373422623, 0.03060773015022278]\n",
      "\n",
      "=== Chunk 2 ===\n",
      "建宁二年四月望日，帝御温德殿。方升座，殿角狂风骤起。只见一条大青蛇，从梁上飞将下来，蟠于椅上。帝惊倒，左右急救入宫，百官俱奔避。须臾，蛇不见了。忽然大雷大雨，加以冰雹，落到半夜方止，坏却房屋无数。建宁四年二月，洛阳地震；又海水泛溢，沿海居民，尽被大浪卷入海中。光和元年，雌鸡化雄。六月朔，黑气十余丈，飞入温德殿中。秋七月，有虹现于玉堂；五原山岸，尽皆崩裂。种种不祥，非止一端。帝下诏问群臣以灾异之由，\n",
      "向量長度: 1536\n",
      "向量前 10 維: [0.015814125537872314, 0.03363639488816261, 0.02580920048058033, 0.015323500148952007, -0.021074090152978897, 0.0034600531216710806, -0.04452143982052803, 0.016989344730973244, -0.07133471220731735, 0.0001968208234757185]\n",
      "\n",
      "=== Chunk 3 ===\n",
      "时巨鹿郡有兄弟三人，一名张角，一名张宝，一名张梁。那张角本是个不第秀才，因入山采药，遇一老人，碧眼童颜，手执藜杖，唤角至一洞中，以天书三卷授之，曰：“此名《太平要术》，汝得之，当代天宣化，普救世人；若萌异心，必获恶报。”角拜问姓名。老人曰：“吾乃南华老仙也。”言讫，化阵清风而去。角得此书，晓夜攻习，能呼风唤雨，号为“太平道人”。中平元年正月内，疫气流行，张角散施符水，为人治病，自称“大贤良师”。角\n",
      "向量長度: 1536\n",
      "向量前 10 維: [0.005029018968343735, -0.006414652802050114, -0.019347235560417175, 0.06958578526973724, -0.0092834597453475, -0.0032446207478642464, -0.0515008270740509, 0.03901577740907669, -0.07284475117921829, -0.028665121644735336]\n",
      "\n",
      "=== Chunk 4 ===\n",
      "斩之；次收封谞等一干人下狱。张角闻知事露，星夜举兵，自称“天公将军”，张宝称“地公将军”，张梁称“人公将军”。申言于众曰：“今汉运将终，大圣人出。汝等皆宜顺天从正，以乐太平。”四方百姓，裹黄巾从张角反者四五十万。贼势浩大，官军望风而靡。何进奏帝火速降诏，令各处备御，讨贼立功。一面遣中郎将卢植、皇甫嵩、朱儁，各引精兵、分三路讨之。\n",
      "向量長度: 1536\n",
      "向量前 10 維: [0.024997200816869736, 0.019780201837420464, 0.03305580094456673, 0.04839600250124931, -0.020945701748132706, -0.009373950771987438, -0.0314130000770092, 0.03942720219492912, -0.051726002246141434, -0.02002440020442009]\n",
      "\n",
      "=== Chunk 5 ===\n",
      "且说张角一军，前犯幽州界分。幽州太守刘焉，乃江夏竟陵人氏，汉鲁恭王之后也。当时闻得贼兵将至，召校尉邹靖计议。靖曰：“贼兵众，我兵寡，明公宜作速招军应敌。”刘焉然其说，随即出榜招募义兵。\n",
      "\n",
      "    榜文行到涿县，引出涿县中一个英雄。那人不甚好读书；性宽和，寡言语，喜怒不形于色；素有大志，专好结交天下豪杰；生得身长七尺五寸，两耳垂肩，双手过膝，目能自顾其耳，面如冠玉，唇若涂脂；中山靖王刘胜之后，汉景帝\n",
      "向量長度: 1536\n",
      "向量前 10 維: [0.023116765543818474, -0.006428360939025879, -0.02010841853916645, 0.02510121837258339, -0.009025038219988346, -0.023750102147459984, -0.061729151755571365, 0.05539579316973686, -0.056789129972457886, -0.03667015582323074]\n"
     ]
    }
   ],
   "source": [
    "# Chunk做Embeddings的範例(取前5篇)\n",
    "texts = [doc.page_content for doc in docs[0:5]]\n",
    "vectors = embeddings.embed_documents(texts)\n",
    "for i in range(len(texts)):\n",
    "    print(f\"\\n=== Chunk {i+1} ===\")\n",
    "    print(texts[i][:200])   # 顯示 chunk 前 200 字\n",
    "    print(f\"向量長度: {len(vectors[i])}\")\n",
    "    print(f\"向量前 10 維: {vectors[i][:10]}\")"
   ]
  },
  {
   "cell_type": "code",
   "execution_count": 14,
   "id": "a1205a59",
   "metadata": {},
   "outputs": [
    {
     "name": "stderr",
     "output_type": "stream",
     "text": [
      "C:\\Users\\User\\AppData\\Local\\Temp\\ipykernel_27392\\679699976.py:17: LangChainDeprecationWarning: The class `Chroma` was deprecated in LangChain 0.2.9 and will be removed in 1.0. An updated version of the class exists in the :class:`~langchain-chroma package and should be used instead. To use it run `pip install -U :class:`~langchain-chroma` and import as `from :class:`~langchain_chroma import Chroma``.\n",
      "  db = Chroma(\n",
      "Failed to send telemetry event ClientStartEvent: capture() takes 1 positional argument but 3 were given\n",
      "Failed to send telemetry event ClientCreateCollectionEvent: capture() takes 1 positional argument but 3 were given\n"
     ]
    },
    {
     "name": "stdout",
     "output_type": "stream",
     "text": [
      "未偵測到 Chroma 向量資料庫，建立新向量資料庫...\n"
     ]
    }
   ],
   "source": [
    "# 建立向量資料庫\n",
    "persist_directory = \"./chroma_db_openai\"\n",
    "if os.path.exists(os.path.join(persist_directory, \"index\")):\n",
    "    print(\"偵測到已有 Chroma 向量資料庫，直接載入...\")\n",
    "    db = Chroma(\n",
    "        persist_directory=persist_directory,\n",
    "        embedding_function=embeddings\n",
    "    )\n",
    "else:\n",
    "    print(\"未偵測到 Chroma 向量資料庫，建立新向量資料庫...\")\n",
    "    # db = Chroma.from_documents(\n",
    "    #     docs,\n",
    "    #     embeddings,\n",
    "    #     persist_directory=persist_directory\n",
    "    # )\n",
    "    \n",
    "    db = Chroma(\n",
    "        persist_directory=persist_directory,\n",
    "        embedding_function=embeddings\n",
    "    )\n",
    "\n",
    "    # 受限於request token限制 採分批處理\n",
    "    batch_size = 50\n",
    "    for i in range(0, len(docs), batch_size):\n",
    "        batch = docs[i:i+batch_size]\n",
    "        try:\n",
    "            db.add_documents(batch)\n",
    "        except Exception as e:\n",
    "            print(f\"處理批次 {i} 至 {i+batch_size} 時發生錯誤: {e}\")\n",
    "            continue"
   ]
  },
  {
   "cell_type": "code",
   "execution_count": 15,
   "id": "ddc402ef",
   "metadata": {},
   "outputs": [
    {
     "name": "stdout",
     "output_type": "stream",
     "text": [
      "向量資料庫目前筆數: 1749\n"
     ]
    }
   ],
   "source": [
    "print(f\"向量資料庫目前筆數: {db._collection.count()}\")"
   ]
  },
  {
   "cell_type": "code",
   "execution_count": 16,
   "id": "8ecd28e4",
   "metadata": {},
   "outputs": [],
   "source": [
    "# 設定檢索器\n",
    "# k: 每次檢索時 從向量資料庫中取回最相關的 Top-k 筆文件段落(chunks)\n",
    "retriever = db.as_retriever(search_kwargs={\"k\": 5})"
   ]
  },
  {
   "cell_type": "code",
   "execution_count": 17,
   "id": "9490ab18",
   "metadata": {},
   "outputs": [],
   "source": [
    "# 建立 RAG QA Chain\n",
    "llm_model_name = \"gpt-4o-mini\"\n",
    "llm = ChatOpenAI(\n",
    "    model=llm_model_name,\n",
    "    temperature=0.2\n",
    ")\n",
    "qa = RetrievalQA.from_chain_type(\n",
    "    llm=llm,\n",
    "    chain_type=\"stuff\", # 將所有檢索到的段落「直接拼接」在一起，與問題一起輸入 LLM（最簡單、適合段落少時使用）\n",
    "    retriever=retriever,\n",
    "    return_source_documents=True\n",
    ")"
   ]
  },
  {
   "cell_type": "markdown",
   "id": "3c47e169",
   "metadata": {},
   "source": [
    "* RetrievalQA的chain_type參考文章\n",
    "    * [Using langchain for Question Answering on Own Data](https://medium.com/@onkarmishra/using-langchain-for-question-answering-on-own-data-3af0a82789ed)  "
   ]
  },
  {
   "cell_type": "code",
   "execution_count": 20,
   "id": "4af874e7",
   "metadata": {},
   "outputs": [
    {
     "name": "stdout",
     "output_type": "stream",
     "text": [
      "\n",
      "=== 回覆 ===\n",
      "執行草船借箭的策略的是諸葛亮。\n",
      "\n",
      "=== 檢索來源 (僅呈現前300字) ===\n",
      "\n",
      "--- Source 1 (docs\\三国演义.txt) ---\n",
      "“大江之中，潮生潮落，风浪不息；北兵不惯乘舟，受此颠播，便生疾病。若以大船小船各皆配搭，或三十为一排，或五十为一排，首尾用铁环连锁，上铺阔板，休言人可渡，马亦可走矣，乘此而行，任他风浪潮水上下，复何惧哉？”曹操下席而谢曰：“非先生良谋，安能破东吴耶！”统曰：“愚浅之见，丞相自裁之。”操即时传令，唤军中铁匠，连夜打造连环大钉，锁住船只。诸军闻之，俱各喜悦。后人有诗曰：“赤壁鏖兵用火攻，运筹决策尽皆同。若非庞统连环计，公瑾安能立大功？”\n",
      "\n",
      "--- Source 2 (docs\\三国演义.txt) ---\n",
      "船出。聘立于船头，大叫：“丞相钧旨：南船且休近寨，就江心抛住。”众军齐喝：“快下了篷！”言未绝，弓弦响处，文聘被箭射中左臂，倒在船中。船上大乱，各自奔回。南船距操寨止隔二里水面。黄盖用刀一招，前船一齐发火。火趁风威，风助火势，船如箭发，烟焰涨天。二十只火船，撞入水寨，曹寨中船只一时尽着；又被铁环锁住，无处逃避。隔江炮响，四下火船齐到，但见三江面上，火逐风飞，一派通红，漫天彻地。\n",
      "\n",
      "--- Source 3 (docs\\三国演义.txt) ---\n",
      "操升帐谓众谋士曰：“若非天命助吾，安得凤雏妙计？铁索连舟，果然渡江如履平地。”程昱曰：“船皆连锁，固是平稳；但彼若用火攻，难以回避。不可不防。”操大笑曰：“程仲德虽有远虑，却还有见不到处。”荀攸曰：“仲德之言甚是。丞相何故笑之？”操曰：“凡用火攻，必藉风力。方今隆冬之际，但有西风北风，安有东风南风耶？吾居于西北之上，彼兵皆在南岸，彼若用火，是烧自己之兵也，吾何惧哉？若是十月小春之时，吾早已提备矣。”诸将皆拜伏曰：“丞相高见，众人不及。”操顾诸将曰：“青、徐、燕、代之众，不惯乘舟。今非此计，安能涉大江之险！”只见班部中二将挺身出曰：“小将虽幽、燕之人，也能乘舟。今愿借巡船二十只，直至江口，夺旗鼓\n",
      "\n",
      "--- Source 4 (docs\\三国演义.txt) ---\n",
      "且说江东，天色向晚，周瑜唤出蔡和，令军士缚倒。和叫：“无罪！”瑜曰：“汝是何等人，敢来诈降！吾今缺少福物祭旗，愿借你首级。”和抵赖不过，大叫曰：“汝家阚泽、甘宁亦曾与谋！”瑜曰：“此乃吾之所使也。”蔡和悔之无及。瑜令捉至江边皂纛旗下，奠酒烧纸，一刀斩了蔡和，用血祭旗毕，便令开船。黄盖在第三只火船上，独披掩心，手提利刃，旗上大书“先锋黄盖”。盖乘一天顺风，望赤壁进发。是时东风大作，波浪汹涌。操在中军遥望隔江，看看月上，照耀江水，如万道金蛇，翻波戏浪。操迎风大笑，自以为得志。忽一军指说：“江南隐隐一簇帆幔，使风而来。”操凭高望之。报称：“皆插青龙牙旗。内中有大旗，上书先锋黄盖名字。”操笑曰：“公覆\n",
      "\n",
      "--- Source 5 (docs\\三国演义.txt) ---\n",
      "肃领命来见孔明。孔明曰：“吾曾告子敬，休对公瑾说，他必要害我。不想子敬不肯为我隐讳，今日果然又弄出事来。三日内如何造得十万箭？子敬只得救我！”肃曰：“公自取其祸，我如何救得你？”孔明曰：“望子敬借我二十只船，每船要军士三十人，船上皆用青布为幔，各束草千余个，分布两边。吾别有妙用。第三日包管有十万枝箭。只不可又教公瑾得知，若彼知之，吾计败矣。”肃允诺，却不解其意，回报周瑜，果然不提起借船之事，只言：“孔明并不用箭竹、翎毛、胶漆等物，自有道理。”瑜大疑曰：“且看他三日后如何回覆我！”却说鲁肃私自拨轻快船二十只，各船三十余人，并布幔束草等物，尽皆齐备，候孔明调用。第一日却不见孔明动静；第二日亦只不动\n"
     ]
    }
   ],
   "source": [
    "# 提問 & 回覆\n",
    "# query = \"請問劉備底下有哪些武將?請用繁體中文回答。\"\n",
    "# query = \"張飛的武器是什麼?請用繁體中文回答。\"\n",
    "# query = \"誰對曹操的評價是'治世之能臣，亂世之奸雄'?請用繁體中文回答。\"\n",
    "query = \"誰執行草船借箭的策略?請用繁體中文回答。\"\n",
    "result = qa(query)\n",
    "\n",
    "print(\"\\n=== 回覆 ===\")\n",
    "print(result[\"result\"])\n",
    "\n",
    "print(\"\\n=== 檢索來源 (僅呈現前300字) ===\")\n",
    "for idx, doc in enumerate(result[\"source_documents\"]):\n",
    "    print(f\"\\n--- Source {idx+1} ({doc.metadata.get('source')}) ---\")\n",
    "    print(doc.page_content[:300])"
   ]
  },
  {
   "cell_type": "code",
   "execution_count": null,
   "id": "31f92c4b",
   "metadata": {},
   "outputs": [],
   "source": []
  }
 ],
 "metadata": {
  "kernelspec": {
   "display_name": ".venv",
   "language": "python",
   "name": "python3"
  },
  "language_info": {
   "codemirror_mode": {
    "name": "ipython",
    "version": 3
   },
   "file_extension": ".py",
   "mimetype": "text/x-python",
   "name": "python",
   "nbconvert_exporter": "python",
   "pygments_lexer": "ipython3",
   "version": "3.11.9"
  }
 },
 "nbformat": 4,
 "nbformat_minor": 5
}
