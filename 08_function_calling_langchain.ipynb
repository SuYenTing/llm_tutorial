{
 "cells": [
  {
   "cell_type": "code",
   "execution_count": 2,
   "id": "9c8f8458",
   "metadata": {},
   "outputs": [],
   "source": [
    "from datetime import datetime\n",
    "from dateutil.parser import parse\n",
    "from langchain_core.tools import Tool\n",
    "from langchain.agents import initialize_agent, AgentType\n",
    "from langchain_openai import ChatOpenAI\n",
    "from langchain.tools import tool\n",
    "import yfinance as yf\n",
    "import pandas as pd\n",
    "import ta\n",
    "from typing import List"
   ]
  },
  {
   "cell_type": "code",
   "execution_count": 3,
   "id": "a0c6e4dd",
   "metadata": {},
   "outputs": [
    {
     "data": {
      "text/plain": [
       "True"
      ]
     },
     "execution_count": 3,
     "metadata": {},
     "output_type": "execute_result"
    }
   ],
   "source": [
    "# 讀取環境變數(OpenAI API Key)\n",
    "from dotenv import load_dotenv\n",
    "load_dotenv()"
   ]
  },
  {
   "cell_type": "code",
   "execution_count": 4,
   "id": "d2c1934c",
   "metadata": {},
   "outputs": [],
   "source": [
    "# 定義實際抓取股價的工具(使用yfinance)\n",
    "@tool\n",
    "def get_stock_price_history(symbol: str, days: int) -> str:\n",
    "    \"\"\"\n",
    "    查詢股票代碼在 Yahoo Finance 上最近指定天數 (days) 的每日收盤價\n",
    "    (symbol: 股票代碼，例如 'AAPL', '2330.TW'；days: 天數，例如 30, 90)\n",
    "    \"\"\"\n",
    "    stock = yf.Ticker(symbol)\n",
    "    try:\n",
    "        df = stock.history(period=f\"{days}d\")\n",
    "        if df.empty:\n",
    "            return f\"找不到 {symbol} 的歷史價格資料，請確認股票代碼是否正確\"\n",
    "        closes = df[\"Close\"]\n",
    "        result = \"\\n\".join([f\"{date.date()}: {price:.2f}\" for date, price in closes.items()])\n",
    "        return result\n",
    "    except Exception as e:\n",
    "        return f\"查詢 {symbol} 最近 {days} 天價格資料時發生錯誤：{str(e)}\""
   ]
  },
  {
   "cell_type": "code",
   "execution_count": 5,
   "id": "59f79bf6",
   "metadata": {},
   "outputs": [],
   "source": [
    "# 計算簡單移動平均函數\n",
    "@tool\n",
    "def compute_sma_from_list(prices: List[float], window: int) -> List[float]:\n",
    "    \"\"\"\n",
    "    根據輸入的股價價格列表 prices 與計算視窗 window 計算並回傳 SMA 列表。\n",
    "\n",
    "    參數:\n",
    "    - prices: List[float]，股價收盤價序列，例如 [123.5, 124.0, 125.2, ...]\n",
    "    - window: int，SMA 計算視窗天數，例如 5, 10, 20\n",
    "\n",
    "    回傳:\n",
    "    - List[float]，計算後的 SMA 序列，若不足 window 則會顯示 NaN。\n",
    "    \"\"\"\n",
    "    price_series = pd.Series(prices)\n",
    "    sma_series = ta.trend.sma_indicator(price_series, window=window)\n",
    "    # 將 NaN 轉為 None，以便於 JSON 可序列化\n",
    "    return sma_series.round(2).tolist()"
   ]
  },
  {
   "cell_type": "code",
   "execution_count": 6,
   "id": "cd8c2332",
   "metadata": {},
   "outputs": [],
   "source": [
    "# 取得最新淨利\n",
    "@tool\n",
    "def get_latest_net_income(symbol: str) -> float:\n",
    "    \"\"\"\n",
    "    查詢股票代碼在 Yahoo Finance 上的最新一期淨利 (Net Income)。\n",
    "\n",
    "    參數:\n",
    "    - symbol: 股票代碼，例如 'AAPL', 'TSLA', '2330.TW'。\n",
    "\n",
    "    回傳:\n",
    "    - 成功：最新一期淨利 (float)\n",
    "    - 若找不到則回傳 -1\n",
    "    \"\"\"\n",
    "    try:\n",
    "        stock = yf.Ticker(symbol)\n",
    "        is_ = stock.financials\n",
    "\n",
    "        if is_.empty:\n",
    "            return -1\n",
    "\n",
    "        ni_candidates = [idx for idx in is_.index if 'net income' in idx.lower()]\n",
    "        if not ni_candidates:\n",
    "            return -1\n",
    "\n",
    "        ni_label = ni_candidates[0]\n",
    "        net_income = is_.loc[ni_label].iloc[0]\n",
    "\n",
    "        return float(net_income)\n",
    "\n",
    "    except Exception:\n",
    "        return -1"
   ]
  },
  {
   "cell_type": "code",
   "execution_count": 7,
   "id": "73f2e8ac",
   "metadata": {},
   "outputs": [],
   "source": [
    "# 取得最新股東權益\n",
    "@tool\n",
    "def get_latest_total_equity(symbol: str) -> float:\n",
    "    \"\"\"\n",
    "    查詢股票代碼在 Yahoo Finance 上的最新一期總股東權益 (Total Stockholder Equity)。\n",
    "\n",
    "    參數:\n",
    "    - symbol: 股票代碼，例如 'AAPL', 'TSLA', '2330.TW'。\n",
    "\n",
    "    回傳:\n",
    "    - 成功：最新一期股東權益 (float)\n",
    "    - 若找不到則回傳 -1\n",
    "    \"\"\"\n",
    "    try:\n",
    "        stock = yf.Ticker(symbol)\n",
    "        bs = stock.balance_sheet\n",
    "\n",
    "        if bs.empty:\n",
    "            return -1\n",
    "\n",
    "        equity_candidates = [idx for idx in bs.index if 'equity' in idx.lower()]\n",
    "        if not equity_candidates:\n",
    "            return -1\n",
    "\n",
    "        equity_label = equity_candidates[0]\n",
    "        total_equity = bs.loc[equity_label].iloc[0]\n",
    "\n",
    "        return float(total_equity)\n",
    "\n",
    "    except Exception:\n",
    "        return -1"
   ]
  },
  {
   "cell_type": "code",
   "execution_count": 8,
   "id": "c563aee1",
   "metadata": {},
   "outputs": [],
   "source": [
    "# 計算 ROE\n",
    "@tool\n",
    "def compute_roe(net_income: float, total_equity: float) -> str:\n",
    "    \"\"\"\n",
    "    根據輸入的淨利與股東權益計算 ROE (Return on Equity)。\n",
    "\n",
    "    參數:\n",
    "    - net_income: float，最新一期淨利 (Net Income)，例如 1000000.0\n",
    "    - total_equity: float，最新一期股東權益 (Total Stockholder Equity)，例如 5000000.0\n",
    "\n",
    "    回傳:\n",
    "    - 成功：回傳 \"最新 ROE (股東權益報酬率) 約為 XX.XX%\"\n",
    "    - 失敗：回傳錯誤提示\n",
    "    \"\"\"\n",
    "    try:\n",
    "        if total_equity == 0:\n",
    "            return \"股東權益為 0，無法計算 ROE。\"\n",
    "\n",
    "        roe = net_income / total_equity * 100\n",
    "        return f\"最新 ROE (股東權益報酬率) 約為 {roe:.2f}%\"\n",
    "    \n",
    "    except Exception as e:\n",
    "        return f\"計算 ROE 時發生錯誤：{str(e)}\""
   ]
  },
  {
   "cell_type": "code",
   "execution_count": 9,
   "id": "c2af0e59",
   "metadata": {},
   "outputs": [],
   "source": [
    "# 組成工具列表\n",
    "tools = [\n",
    "    get_stock_price_history, \n",
    "    compute_sma_from_list,\n",
    "    get_latest_net_income,\n",
    "    get_latest_total_equity,\n",
    "    compute_roe\n",
    "]"
   ]
  },
  {
   "cell_type": "code",
   "execution_count": 10,
   "id": "545ecd90",
   "metadata": {},
   "outputs": [],
   "source": [
    "# 使用 gpt-3.5-turbo\n",
    "llm = ChatOpenAI(\n",
    "    model=\"gpt-3.5-turbo\",\n",
    "    temperature=0\n",
    ")"
   ]
  },
  {
   "cell_type": "code",
   "execution_count": 11,
   "id": "16b499be",
   "metadata": {},
   "outputs": [
    {
     "name": "stderr",
     "output_type": "stream",
     "text": [
      "C:\\Users\\User\\AppData\\Local\\Temp\\ipykernel_26508\\2736381593.py:2: LangChainDeprecationWarning: LangChain agents will continue to be supported, but it is recommended for new use cases to be built with LangGraph. LangGraph offers a more flexible and full-featured framework for building agents, including support for tool-calling, persistence of state, and human-in-the-loop workflows. For details, refer to the `LangGraph documentation <https://langchain-ai.github.io/langgraph/>`_ as well as guides for `Migrating from AgentExecutor <https://python.langchain.com/docs/how_to/migrate_agent/>`_ and LangGraph's `Pre-built ReAct agent <https://langchain-ai.github.io/langgraph/how-tos/create-react-agent/>`_.\n",
      "  agent = initialize_agent(\n"
     ]
    }
   ],
   "source": [
    "# 使用 Function Calling 模式\n",
    "agent = initialize_agent(\n",
    "    tools=tools,\n",
    "    llm=llm,\n",
    "    agent=AgentType.OPENAI_FUNCTIONS,\n",
    "    verbose=True\n",
    ")"
   ]
  },
  {
   "cell_type": "code",
   "execution_count": 12,
   "id": "9aa37bd0",
   "metadata": {},
   "outputs": [
    {
     "name": "stdout",
     "output_type": "stream",
     "text": [
      "\n",
      "\n",
      "\u001b[1m> Entering new AgentExecutor chain...\u001b[0m\n",
      "\u001b[32;1m\u001b[1;3m\n",
      "Invoking: `get_latest_net_income` with `{'symbol': '2412.TW'}`\n",
      "\n",
      "\n",
      "\u001b[0m\u001b[38;5;200m\u001b[1;3m37189000000.0\u001b[0m\u001b[32;1m\u001b[1;3m\n",
      "Invoking: `get_latest_total_equity` with `{'symbol': '2412.TW'}`\n",
      "\n",
      "\n",
      "\u001b[0m\u001b[36;1m\u001b[1;3m382826000000.0\u001b[0m\u001b[32;1m\u001b[1;3m\n",
      "Invoking: `compute_roe` with `{'net_income': 37189000000, 'total_equity': 382826000000}`\n",
      "\n",
      "\n",
      "\u001b[0m\u001b[33;1m\u001b[1;3m最新 ROE (股東權益報酬率) 約為 9.71%\u001b[0m\u001b[32;1m\u001b[1;3m中華電的最新 ROE (股東權益報酬率) 約為 9.71%。\n",
      "\n",
      "我的思考流程如下：\n",
      "1. 首先，我查詢了中華電的最新一期淨利為 37,189,000,000。\n",
      "2. 接著，我查詢了中華電的最新一期總股東權益為 382,826,000,000。\n",
      "3. 最後，我使用這兩個數據計算了中華電的 ROE，結果為約為 9.71%。\u001b[0m\n",
      "\n",
      "\u001b[1m> Finished chain.\u001b[0m\n",
      "中華電的最新 ROE (股東權益報酬率) 約為 9.71%。\n",
      "\n",
      "我的思考流程如下：\n",
      "1. 首先，我查詢了中華電的最新一期淨利為 37,189,000,000。\n",
      "2. 接著，我查詢了中華電的最新一期總股東權益為 382,826,000,000。\n",
      "3. 最後，我使用這兩個數據計算了中華電的 ROE，結果為約為 9.71%。\n"
     ]
    }
   ],
   "source": [
    "# 測試輸入\n",
    "# query = \"請問2330.TW的股價是多少?\"\n",
    "# query = \"請問台積電的股價是多少?\"\n",
    "# query = \"請問中華電的股價是多少?\"\n",
    "# query = \"請問中華電最近30日的股價是多少?\"\n",
    "# query = \"請問中華電5日均線是多少?\"\n",
    "# query = \"請問中華電的淨利,股東權益與ROE是是多少?\"\n",
    "# query = \"請問AAPL的淨利,股東權益與ROE是多少?\"\n",
    "# query = \"請問中華電的ROE是多少?\"\n",
    "query = \"請問中華電的ROE是多少?請給我你的思考流程\"\n",
    "\n",
    "# 執行呼叫\n",
    "response = agent.invoke({\"input\": query})\n",
    "\n",
    "print(response[\"output\"])"
   ]
  },
  {
   "cell_type": "code",
   "execution_count": null,
   "id": "7a3e2efc",
   "metadata": {},
   "outputs": [],
   "source": []
  }
 ],
 "metadata": {
  "kernelspec": {
   "display_name": ".venv",
   "language": "python",
   "name": "python3"
  },
  "language_info": {
   "codemirror_mode": {
    "name": "ipython",
    "version": 3
   },
   "file_extension": ".py",
   "mimetype": "text/x-python",
   "name": "python",
   "nbconvert_exporter": "python",
   "pygments_lexer": "ipython3",
   "version": "3.11.9"
  }
 },
 "nbformat": 4,
 "nbformat_minor": 5
}
