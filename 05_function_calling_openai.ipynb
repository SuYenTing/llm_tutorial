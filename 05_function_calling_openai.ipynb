{
 "cells": [
  {
   "cell_type": "code",
   "execution_count": 1,
   "id": "9cbe6b6d",
   "metadata": {},
   "outputs": [],
   "source": [
    "from datetime import datetime\n",
    "from openai import OpenAI"
   ]
  },
  {
   "cell_type": "code",
   "execution_count": 2,
   "id": "110c620d",
   "metadata": {},
   "outputs": [
    {
     "data": {
      "text/plain": [
       "True"
      ]
     },
     "execution_count": 2,
     "metadata": {},
     "output_type": "execute_result"
    }
   ],
   "source": [
    "# 讀取環境變數(OpenAI API Key)\n",
    "from dotenv import load_dotenv\n",
    "load_dotenv()"
   ]
  },
  {
   "cell_type": "code",
   "execution_count": 3,
   "id": "c7b66af9",
   "metadata": {},
   "outputs": [],
   "source": [
    "# 初始化 client\n",
    "client = OpenAI()"
   ]
  },
  {
   "cell_type": "code",
   "execution_count": 4,
   "id": "9ad57555",
   "metadata": {},
   "outputs": [],
   "source": [
    "# 定義要給 GPT 認識的 function schema\n",
    "functions = [\n",
    "    {\n",
    "        \"name\": \"get_current_time\",\n",
    "        \"description\": \"取得目前時間(無需參數)\",\n",
    "        \"parameters\": {\n",
    "            \"type\": \"object\",\n",
    "            \"properties\": {}\n",
    "        }\n",
    "    }\n",
    "]"
   ]
  },
  {
   "cell_type": "code",
   "execution_count": 5,
   "id": "7c87668e",
   "metadata": {},
   "outputs": [],
   "source": [
    "# 使用者提問\n",
    "user_question = \"請告訴我現在的時間\""
   ]
  },
  {
   "cell_type": "code",
   "execution_count": 6,
   "id": "09e58e82",
   "metadata": {},
   "outputs": [],
   "source": [
    "# 第一次呼叫 GPT 讓GPT決定是否要呼叫函數\n",
    "response = client.chat.completions.create(\n",
    "    model=\"gpt-3.5-turbo\",\n",
    "    messages=[\n",
    "        {\"role\": \"system\", \"content\": \"你是一個可以呼叫工具的助理。\"},\n",
    "        {\"role\": \"user\", \"content\": user_question}\n",
    "    ],\n",
    "    functions=functions,\n",
    "    function_call=\"auto\"  # 讓 GPT 自行決定是否呼叫函數\n",
    ")"
   ]
  },
  {
   "cell_type": "code",
   "execution_count": 7,
   "id": "c733498c",
   "metadata": {},
   "outputs": [
    {
     "name": "stdout",
     "output_type": "stream",
     "text": [
      "\n",
      "=== GPT 回傳原始 JSON ===\n",
      "ChatCompletion(id='chatcmpl-BrPIx0jGnxoKPeJb02kwQEZ7EZLYO', choices=[Choice(finish_reason='function_call', index=0, logprobs=None, message=ChatCompletionMessage(content=None, refusal=None, role='assistant', annotations=[], audio=None, function_call=FunctionCall(arguments='{}', name='get_current_time'), tool_calls=None))], created=1752068355, model='gpt-3.5-turbo-0125', object='chat.completion', service_tier='default', system_fingerprint=None, usage=CompletionUsage(completion_tokens=11, prompt_tokens=76, total_tokens=87, completion_tokens_details=CompletionTokensDetails(accepted_prediction_tokens=0, audio_tokens=0, reasoning_tokens=0, rejected_prediction_tokens=0), prompt_tokens_details=PromptTokensDetails(audio_tokens=0, cached_tokens=0)))\n"
     ]
    }
   ],
   "source": [
    "# 印出 GPT 回傳的原始 JSON\n",
    "print(\"\\n=== GPT 回傳原始 JSON ===\")\n",
    "print(response)"
   ]
  },
  {
   "cell_type": "code",
   "execution_count": 8,
   "id": "8dd33fb2",
   "metadata": {},
   "outputs": [
    {
     "name": "stdout",
     "output_type": "stream",
     "text": [
      "ChatCompletionMessage(content=None, refusal=None, role='assistant', annotations=[], audio=None, function_call=FunctionCall(arguments='{}', name='get_current_time'), tool_calls=None)\n"
     ]
    }
   ],
   "source": [
    "# 判斷是否有 function_call\n",
    "message = response.choices[0].message\n",
    "print(message)"
   ]
  },
  {
   "cell_type": "code",
   "execution_count": null,
   "id": "3bfa3d2b",
   "metadata": {},
   "outputs": [
    {
     "name": "stdout",
     "output_type": "stream",
     "text": [
      "\n",
      "=== GPT 決定呼叫的 Function ===\n",
      "名稱: get_current_time\n",
      "參數: {}\n",
      "[本機] 執行 get_current_time()\n",
      "\n",
      "=== GPT 最終回答 ===\n",
      "現在的時間是2025年7月9日 21:39。\n"
     ]
    }
   ],
   "source": [
    "if message.function_call:\n",
    "    print(\"\\n=== GPT 決定呼叫的 Function ===\")\n",
    "    print(f\"名稱: {message.function_call.name}\")\n",
    "    print(f\"參數: {message.function_call.arguments}\")\n",
    "\n",
    "    # 執行本地對應函數\n",
    "    if message.function_call.name == \"get_current_time\":\n",
    "        def get_current_time():\n",
    "            now = datetime.now()\n",
    "            print(\"[本機] 執行 get_current_time()\")\n",
    "            return now.strftime(\"%Y-%m-%d %H:%M:%S\")\n",
    "\n",
    "        function_result = get_current_time()\n",
    "\n",
    "        # 將結果回傳給GPT 讓GPT整理成最終回答\n",
    "        second_response = client.chat.completions.create(\n",
    "            model=\"gpt-3.5-turbo\",\n",
    "            messages=[\n",
    "                {\"role\": \"system\", \"content\": \"你是一個可以呼叫工具的助理。\"},\n",
    "                {\"role\": \"user\", \"content\": user_question},\n",
    "                message,  # 原本GPT回傳欲呼叫函數的訊息\n",
    "                {\n",
    "                    \"role\": \"function\",\n",
    "                    \"name\": \"get_current_time\",\n",
    "                    \"content\": function_result\n",
    "                }\n",
    "            ]\n",
    "        )\n",
    "\n",
    "        # 印出 GPT 最終整理的回答\n",
    "        final_message = second_response.choices[0].message.content\n",
    "        print(\"\\n=== GPT 最終回答 ===\")\n",
    "        print(final_message)\n",
    "else:\n",
    "    # GPT 沒有呼叫函數，直接回應\n",
    "    print(\"\\n=== GPT 回覆（未呼叫函數） ===\")\n",
    "    print(message.content)"
   ]
  },
  {
   "cell_type": "code",
   "execution_count": null,
   "id": "8e11ec89",
   "metadata": {},
   "outputs": [],
   "source": []
  }
 ],
 "metadata": {
  "kernelspec": {
   "display_name": ".venv",
   "language": "python",
   "name": "python3"
  },
  "language_info": {
   "codemirror_mode": {
    "name": "ipython",
    "version": 3
   },
   "file_extension": ".py",
   "mimetype": "text/x-python",
   "name": "python",
   "nbconvert_exporter": "python",
   "pygments_lexer": "ipython3",
   "version": "3.11.9"
  }
 },
 "nbformat": 4,
 "nbformat_minor": 5
}
