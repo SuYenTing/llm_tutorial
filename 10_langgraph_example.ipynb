{
 "cells": [
  {
   "cell_type": "code",
   "execution_count": null,
   "id": "41b4b448",
   "metadata": {},
   "outputs": [],
   "source": [
    "from langchain_openai import ChatOpenAI\n",
    "from langchain.prompts import ChatPromptTemplate\n",
    "from langgraph.graph import StateGraph, END\n",
    "import random\n",
    "\n",
    "# 使用 OpenAI GPT-4o 作為主要 LLM\n",
    "llm = ChatOpenAI(model=\"gpt-4o\", temperature=0)\n",
    "\n",
    "# 狀態定義\n",
    "class State(dict):\n",
    "    question: str\n",
    "    answer: str\n",
    "    confidence: float\n",
    "    route: str\n",
    "    retries: int\n",
    "\n",
    "# --- 分類客服 ---\n",
    "classify_prompt = ChatPromptTemplate.from_messages([\n",
    "    (\"system\",\n",
    "     \"你是銀行客服人員，負責將使用者問題轉交正確部門。\\n\\n\"\n",
    "     \"【客服文件】\\n\"\n",
    "     \"1. 帳務部門：處理存款、提款、餘額查詢、轉帳。\\n\"\n",
    "     \"2. 信用卡部門：處理掛失、刷卡爭議、額度調整。\\n\"\n",
    "     \"3. 若問題不屬於以上範圍，請回覆 'human'。\\n\\n\"\n",
    "     \"請只輸出以下其中一個詞：'accounting'、'creditcard' 或 'human'。\"),\n",
    "    (\"human\", \"{question}\")\n",
    "])\n",
    "def classify_node(state: State):\n",
    "    response = llm.invoke(classify_prompt.format_messages(question=state[\"question\"]))\n",
    "    raw = response.content.strip().lower()\n",
    "    if \"accounting\" in raw:\n",
    "        route = \"accounting\"\n",
    "    elif \"creditcard\" in raw:\n",
    "        route = \"creditcard\"\n",
    "    else:\n",
    "        route = \"human\"\n",
    "    print(f\"[分類] 問題: {state['question']} → 部門: {route} (重試次數={state.get('retries', 0)})\")\n",
    "    return {\"route\": route, \"retries\": state.get(\"retries\", 0)}\n",
    "\n",
    "# --- 帳務部門 ---\n",
    "def accounting_node(state: State):\n",
    "    ans = \"您好，我是帳務部門人員，正在處理您的帳務問題。\"\n",
    "    print(f\"[帳務部門回答] {ans}\")\n",
    "    return {\"answer\": ans}\n",
    "\n",
    "# --- 信用卡部門 ---\n",
    "def creditcard_node(state: State):\n",
    "    ans = \"您好，我是信用卡部門人員，正在處理您的信用卡問題。\"\n",
    "    print(f\"[信用卡部門回答] {ans}\")\n",
    "    return {\"answer\": ans}\n",
    "\n",
    "# --- 信心度檢查 ---\n",
    "def confidence_node(state: State):\n",
    "    score = round(random.uniform(0, 1), 2)\n",
    "    print(f\"[信心度檢查] 答案: {state['answer']} → 信心度={score:.2f}\")\n",
    "    return {\"confidence\": score}\n",
    "\n",
    "# --- 更新 retries ---\n",
    "def update_retries_node(state: State):\n",
    "    retries = state[\"retries\"] + 1\n",
    "    print(f\"[更新嘗試次數] retries={retries}\")\n",
    "    return {\"retries\": retries}\n",
    "\n",
    "# --- 人工客服 ---\n",
    "def human_node(state: State):\n",
    "    # 判斷是直接進來，還是 retries 超過 3 次\n",
    "    if state.get(\"retries\", 0) == 0:\n",
    "        ans = \"AI客服無法為您解決問題，已轉人工客服處理。\"\n",
    "    else:\n",
    "        ans = f\"AI客服多次嘗試回答後仍信心不足，已轉人工客服處理。\"\n",
    "    \n",
    "    print(f\"[人工客服] {ans}\")\n",
    "    return {\"answer\": ans}\n",
    "\n",
    "# --- LangGraph 流程 ---\n",
    "graph = StateGraph(State)\n",
    "graph.add_node(\"classify\", classify_node)\n",
    "graph.add_node(\"accounting\", accounting_node)\n",
    "graph.add_node(\"creditcard\", creditcard_node)\n",
    "graph.add_node(\"confidence\", confidence_node)\n",
    "graph.add_node(\"update_retries\", update_retries_node)\n",
    "graph.add_node(\"human\", human_node)\n",
    "\n",
    "graph.set_entry_point(\"classify\")\n",
    "\n",
    "# 分類決策\n",
    "graph.add_conditional_edges(\n",
    "    \"classify\",\n",
    "    lambda state: state[\"route\"],\n",
    "    {\n",
    "        \"accounting\": \"accounting\",\n",
    "        \"creditcard\": \"creditcard\",\n",
    "        \"human\": \"human\"\n",
    "    }\n",
    ")\n",
    "\n",
    "# 部門 → 信心度檢查\n",
    "graph.add_edge(\"accounting\", \"confidence\")\n",
    "graph.add_edge(\"creditcard\", \"confidence\")\n",
    "\n",
    "# 信心度決策\n",
    "def decide_confidence(state: State):\n",
    "    if state[\"confidence\"] >= 0.5:   # 信心度足夠 → 結束\n",
    "        return END\n",
    "    elif state[\"retries\"] < 2:       # 信心度不足，但嘗試次數 < 3\n",
    "        return \"update_retries\"      # 先更新 retries\n",
    "    else:                            # 超過嘗試次數 → 轉人工\n",
    "        return \"human\"\n",
    "\n",
    "graph.add_conditional_edges(\"confidence\", decide_confidence)\n",
    "\n",
    "# 更新 retries → 回到 classify 再跑一次\n",
    "graph.add_edge(\"update_retries\", \"classify\")\n",
    "\n",
    "# 人工客服為終點\n",
    "graph.add_edge(\"human\", END)\n",
    "\n",
    "app = graph.compile()"
   ]
  },
  {
   "cell_type": "code",
   "execution_count": 36,
   "id": "a8f68eb3",
   "metadata": {},
   "outputs": [
    {
     "name": "stdout",
     "output_type": "stream",
     "text": [
      "[分類] 問題: 請問為什麼我的轉帳失敗了？ → 部門: accounting (重試次數=0)\n",
      "[帳務部門回答] 您好，我是帳務部門人員，正在處理您的帳務問題。\n",
      "[信心度檢查] 答案: 您好，我是帳務部門人員，正在處理您的帳務問題。 → 信心度=0.32\n",
      "[更新嘗試次數] retries=1\n",
      "[分類] 問題: 請問為什麼我的轉帳失敗了？ → 部門: accounting (重試次數=1)\n",
      "[帳務部門回答] 您好，我是帳務部門人員，正在處理您的帳務問題。\n",
      "[信心度檢查] 答案: 您好，我是帳務部門人員，正在處理您的帳務問題。 → 信心度=0.92\n",
      "{'question': '請問為什麼我的轉帳失敗了？', 'answer': '您好，我是帳務部門人員，正在處理您的帳務問題。', 'confidence': 0.92, 'route': 'accounting', 'retries': 1}\n"
     ]
    }
   ],
   "source": [
    "# --- 測試1 ---\n",
    "print(app.invoke({\"question\": \"請問為什麼我的轉帳失敗了？\"}))"
   ]
  },
  {
   "cell_type": "code",
   "execution_count": 37,
   "id": "9eb2aa04",
   "metadata": {},
   "outputs": [
    {
     "name": "stdout",
     "output_type": "stream",
     "text": [
      "[分類] 問題: 我的信用卡昨天被盜刷了怎麼辦？ → 部門: creditcard (重試次數=0)\n",
      "[信用卡部門回答] 您好，我是信用卡部門人員，正在處理您的信用卡問題。\n",
      "[信心度檢查] 答案: 您好，我是信用卡部門人員，正在處理您的信用卡問題。 → 信心度=0.02\n",
      "[更新嘗試次數] retries=1\n",
      "[分類] 問題: 我的信用卡昨天被盜刷了怎麼辦？ → 部門: creditcard (重試次數=1)\n",
      "[信用卡部門回答] 您好，我是信用卡部門人員，正在處理您的信用卡問題。\n",
      "[信心度檢查] 答案: 您好，我是信用卡部門人員，正在處理您的信用卡問題。 → 信心度=0.77\n",
      "{'question': '我的信用卡昨天被盜刷了怎麼辦？', 'answer': '您好，我是信用卡部門人員，正在處理您的信用卡問題。', 'confidence': 0.77, 'route': 'creditcard', 'retries': 1}\n"
     ]
    }
   ],
   "source": [
    "# --- 測試2 ---\n",
    "print(app.invoke({\"question\": \"我的信用卡昨天被盜刷了怎麼辦？\"}))"
   ]
  },
  {
   "cell_type": "code",
   "execution_count": 38,
   "id": "8ee73e0d",
   "metadata": {},
   "outputs": [
    {
     "name": "stdout",
     "output_type": "stream",
     "text": [
      "[分類] 問題: 我想問關於房貸利率 → 部門: human (重試次數=0)\n",
      "[人工客服] AI客服無法為您解決問題，已轉人工客服處理。\n",
      "{'question': '我想問關於房貸利率', 'answer': 'AI客服無法為您解決問題，已轉人工客服處理。', 'route': 'human', 'retries': 0}\n"
     ]
    }
   ],
   "source": [
    "# --- 測試3 ---\n",
    "print(app.invoke({\"question\": \"我想問關於房貸利率\"}))"
   ]
  },
  {
   "cell_type": "code",
   "execution_count": null,
   "id": "05e4217b",
   "metadata": {},
   "outputs": [],
   "source": []
  }
 ],
 "metadata": {
  "kernelspec": {
   "display_name": "llm-tutorial",
   "language": "python",
   "name": "python3"
  },
  "language_info": {
   "codemirror_mode": {
    "name": "ipython",
    "version": 3
   },
   "file_extension": ".py",
   "mimetype": "text/x-python",
   "name": "python",
   "nbconvert_exporter": "python",
   "pygments_lexer": "ipython3",
   "version": "3.13.7"
  }
 },
 "nbformat": 4,
 "nbformat_minor": 5
}
